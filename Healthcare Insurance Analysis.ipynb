{
 "cells": [
  {
   "cell_type": "markdown",
   "id": "e2eca18b",
   "metadata": {},
   "source": [
    "# Healthcare Insurance Analysis"
   ]
  },
  {
   "cell_type": "markdown",
   "id": "d03d6d8e",
   "metadata": {},
   "source": [
    "## Objective"
   ]
  },
  {
   "cell_type": "markdown",
   "id": "4dba36d1",
   "metadata": {},
   "source": [
    "#### The objective of this project is to predict patients’ healthcare costs and to identify factors contributing to this prediction. It will also be useful to learn the interdependencies of different factors and comprehend the significance of various tools at various stages of the healthcare cost prediction process."
   ]
  },
  {
   "cell_type": "markdown",
   "id": "69c8b7e2",
   "metadata": {},
   "source": [
    "### 1. Importing the required libraries and the datasets"
   ]
  },
  {
   "cell_type": "code",
   "execution_count": 1,
   "id": "d1e138b3",
   "metadata": {},
   "outputs": [],
   "source": [
    "import pandas as pd\n",
    "import numpy as np\n",
    "import matplotlib.pyplot as plt\n",
    "import seaborn as sns\n",
    "import warnings\n",
    "warnings.filterwarnings('ignore')"
   ]
  },
  {
   "cell_type": "code",
   "execution_count": 2,
   "id": "5bab59af",
   "metadata": {},
   "outputs": [],
   "source": [
    "df1=pd.read_csv('Hospitalisation details.csv')"
   ]
  },
  {
   "cell_type": "code",
   "execution_count": 3,
   "id": "ba29af14",
   "metadata": {},
   "outputs": [
    {
     "data": {
      "text/html": [
       "<div>\n",
       "<style scoped>\n",
       "    .dataframe tbody tr th:only-of-type {\n",
       "        vertical-align: middle;\n",
       "    }\n",
       "\n",
       "    .dataframe tbody tr th {\n",
       "        vertical-align: top;\n",
       "    }\n",
       "\n",
       "    .dataframe thead th {\n",
       "        text-align: right;\n",
       "    }\n",
       "</style>\n",
       "<table border=\"1\" class=\"dataframe\">\n",
       "  <thead>\n",
       "    <tr style=\"text-align: right;\">\n",
       "      <th></th>\n",
       "      <th>Customer ID</th>\n",
       "      <th>year</th>\n",
       "      <th>month</th>\n",
       "      <th>date</th>\n",
       "      <th>children</th>\n",
       "      <th>charges</th>\n",
       "      <th>Hospital tier</th>\n",
       "      <th>City tier</th>\n",
       "      <th>State ID</th>\n",
       "    </tr>\n",
       "  </thead>\n",
       "  <tbody>\n",
       "    <tr>\n",
       "      <th>0</th>\n",
       "      <td>Id2335</td>\n",
       "      <td>1992</td>\n",
       "      <td>Jul</td>\n",
       "      <td>9</td>\n",
       "      <td>0</td>\n",
       "      <td>563.84</td>\n",
       "      <td>tier - 2</td>\n",
       "      <td>tier - 3</td>\n",
       "      <td>R1013</td>\n",
       "    </tr>\n",
       "    <tr>\n",
       "      <th>1</th>\n",
       "      <td>Id2334</td>\n",
       "      <td>1992</td>\n",
       "      <td>Nov</td>\n",
       "      <td>30</td>\n",
       "      <td>0</td>\n",
       "      <td>570.62</td>\n",
       "      <td>tier - 2</td>\n",
       "      <td>tier - 1</td>\n",
       "      <td>R1013</td>\n",
       "    </tr>\n",
       "    <tr>\n",
       "      <th>2</th>\n",
       "      <td>Id2333</td>\n",
       "      <td>1993</td>\n",
       "      <td>Jun</td>\n",
       "      <td>30</td>\n",
       "      <td>0</td>\n",
       "      <td>600.00</td>\n",
       "      <td>tier - 2</td>\n",
       "      <td>tier - 1</td>\n",
       "      <td>R1013</td>\n",
       "    </tr>\n",
       "    <tr>\n",
       "      <th>3</th>\n",
       "      <td>Id2332</td>\n",
       "      <td>1992</td>\n",
       "      <td>Sep</td>\n",
       "      <td>13</td>\n",
       "      <td>0</td>\n",
       "      <td>604.54</td>\n",
       "      <td>tier - 3</td>\n",
       "      <td>tier - 3</td>\n",
       "      <td>R1013</td>\n",
       "    </tr>\n",
       "    <tr>\n",
       "      <th>4</th>\n",
       "      <td>Id2331</td>\n",
       "      <td>1998</td>\n",
       "      <td>Jul</td>\n",
       "      <td>27</td>\n",
       "      <td>0</td>\n",
       "      <td>637.26</td>\n",
       "      <td>tier - 3</td>\n",
       "      <td>tier - 3</td>\n",
       "      <td>R1013</td>\n",
       "    </tr>\n",
       "  </tbody>\n",
       "</table>\n",
       "</div>"
      ],
      "text/plain": [
       "  Customer ID  year month  date  children  charges Hospital tier City tier  \\\n",
       "0      Id2335  1992   Jul     9         0   563.84      tier - 2  tier - 3   \n",
       "1      Id2334  1992   Nov    30         0   570.62      tier - 2  tier - 1   \n",
       "2      Id2333  1993   Jun    30         0   600.00      tier - 2  tier - 1   \n",
       "3      Id2332  1992   Sep    13         0   604.54      tier - 3  tier - 3   \n",
       "4      Id2331  1998   Jul    27         0   637.26      tier - 3  tier - 3   \n",
       "\n",
       "  State ID  \n",
       "0    R1013  \n",
       "1    R1013  \n",
       "2    R1013  \n",
       "3    R1013  \n",
       "4    R1013  "
      ]
     },
     "execution_count": 3,
     "metadata": {},
     "output_type": "execute_result"
    }
   ],
   "source": [
    "df1.head()"
   ]
  },
  {
   "cell_type": "code",
   "execution_count": 4,
   "id": "c8da7549",
   "metadata": {},
   "outputs": [],
   "source": [
    "df2=pd.read_csv('Medical Examinations.csv')"
   ]
  },
  {
   "cell_type": "code",
   "execution_count": 5,
   "id": "f7d2a4c8",
   "metadata": {},
   "outputs": [
    {
     "data": {
      "text/html": [
       "<div>\n",
       "<style scoped>\n",
       "    .dataframe tbody tr th:only-of-type {\n",
       "        vertical-align: middle;\n",
       "    }\n",
       "\n",
       "    .dataframe tbody tr th {\n",
       "        vertical-align: top;\n",
       "    }\n",
       "\n",
       "    .dataframe thead th {\n",
       "        text-align: right;\n",
       "    }\n",
       "</style>\n",
       "<table border=\"1\" class=\"dataframe\">\n",
       "  <thead>\n",
       "    <tr style=\"text-align: right;\">\n",
       "      <th></th>\n",
       "      <th>Customer ID</th>\n",
       "      <th>BMI</th>\n",
       "      <th>HBA1C</th>\n",
       "      <th>Heart Issues</th>\n",
       "      <th>Any Transplants</th>\n",
       "      <th>Cancer history</th>\n",
       "      <th>NumberOfMajorSurgeries</th>\n",
       "      <th>smoker</th>\n",
       "    </tr>\n",
       "  </thead>\n",
       "  <tbody>\n",
       "    <tr>\n",
       "      <th>0</th>\n",
       "      <td>Id1</td>\n",
       "      <td>47.410</td>\n",
       "      <td>7.47</td>\n",
       "      <td>No</td>\n",
       "      <td>No</td>\n",
       "      <td>No</td>\n",
       "      <td>No major surgery</td>\n",
       "      <td>yes</td>\n",
       "    </tr>\n",
       "    <tr>\n",
       "      <th>1</th>\n",
       "      <td>Id2</td>\n",
       "      <td>30.360</td>\n",
       "      <td>5.77</td>\n",
       "      <td>No</td>\n",
       "      <td>No</td>\n",
       "      <td>No</td>\n",
       "      <td>No major surgery</td>\n",
       "      <td>yes</td>\n",
       "    </tr>\n",
       "    <tr>\n",
       "      <th>2</th>\n",
       "      <td>Id3</td>\n",
       "      <td>34.485</td>\n",
       "      <td>11.87</td>\n",
       "      <td>yes</td>\n",
       "      <td>No</td>\n",
       "      <td>No</td>\n",
       "      <td>2</td>\n",
       "      <td>yes</td>\n",
       "    </tr>\n",
       "    <tr>\n",
       "      <th>3</th>\n",
       "      <td>Id4</td>\n",
       "      <td>38.095</td>\n",
       "      <td>6.05</td>\n",
       "      <td>No</td>\n",
       "      <td>No</td>\n",
       "      <td>No</td>\n",
       "      <td>No major surgery</td>\n",
       "      <td>yes</td>\n",
       "    </tr>\n",
       "    <tr>\n",
       "      <th>4</th>\n",
       "      <td>Id5</td>\n",
       "      <td>35.530</td>\n",
       "      <td>5.45</td>\n",
       "      <td>No</td>\n",
       "      <td>No</td>\n",
       "      <td>No</td>\n",
       "      <td>No major surgery</td>\n",
       "      <td>yes</td>\n",
       "    </tr>\n",
       "  </tbody>\n",
       "</table>\n",
       "</div>"
      ],
      "text/plain": [
       "  Customer ID     BMI  HBA1C Heart Issues Any Transplants Cancer history  \\\n",
       "0         Id1  47.410   7.47           No              No             No   \n",
       "1         Id2  30.360   5.77           No              No             No   \n",
       "2         Id3  34.485  11.87          yes              No             No   \n",
       "3         Id4  38.095   6.05           No              No             No   \n",
       "4         Id5  35.530   5.45           No              No             No   \n",
       "\n",
       "  NumberOfMajorSurgeries smoker  \n",
       "0       No major surgery    yes  \n",
       "1       No major surgery    yes  \n",
       "2                      2    yes  \n",
       "3       No major surgery    yes  \n",
       "4       No major surgery    yes  "
      ]
     },
     "execution_count": 5,
     "metadata": {},
     "output_type": "execute_result"
    }
   ],
   "source": [
    "df2.head()"
   ]
  },
  {
   "cell_type": "code",
   "execution_count": 6,
   "id": "4d3941ef",
   "metadata": {},
   "outputs": [],
   "source": [
    "df3=pd.read_excel('Names.xlsx')"
   ]
  },
  {
   "cell_type": "code",
   "execution_count": 7,
   "id": "4eab73ca",
   "metadata": {},
   "outputs": [
    {
     "data": {
      "text/html": [
       "<div>\n",
       "<style scoped>\n",
       "    .dataframe tbody tr th:only-of-type {\n",
       "        vertical-align: middle;\n",
       "    }\n",
       "\n",
       "    .dataframe tbody tr th {\n",
       "        vertical-align: top;\n",
       "    }\n",
       "\n",
       "    .dataframe thead th {\n",
       "        text-align: right;\n",
       "    }\n",
       "</style>\n",
       "<table border=\"1\" class=\"dataframe\">\n",
       "  <thead>\n",
       "    <tr style=\"text-align: right;\">\n",
       "      <th></th>\n",
       "      <th>Customer ID</th>\n",
       "      <th>name</th>\n",
       "    </tr>\n",
       "  </thead>\n",
       "  <tbody>\n",
       "    <tr>\n",
       "      <th>0</th>\n",
       "      <td>Id1</td>\n",
       "      <td>Hawks, Ms.  Kelly</td>\n",
       "    </tr>\n",
       "    <tr>\n",
       "      <th>1</th>\n",
       "      <td>Id2</td>\n",
       "      <td>Lehner, Mr.  Matthew D</td>\n",
       "    </tr>\n",
       "    <tr>\n",
       "      <th>2</th>\n",
       "      <td>Id3</td>\n",
       "      <td>Lu, Mr.  Phil</td>\n",
       "    </tr>\n",
       "    <tr>\n",
       "      <th>3</th>\n",
       "      <td>Id4</td>\n",
       "      <td>Osborne, Ms.  Kelsey</td>\n",
       "    </tr>\n",
       "    <tr>\n",
       "      <th>4</th>\n",
       "      <td>Id5</td>\n",
       "      <td>Kadala, Ms.  Kristyn</td>\n",
       "    </tr>\n",
       "  </tbody>\n",
       "</table>\n",
       "</div>"
      ],
      "text/plain": [
       "  Customer ID                    name\n",
       "0         Id1       Hawks, Ms.  Kelly\n",
       "1         Id2  Lehner, Mr.  Matthew D\n",
       "2         Id3           Lu, Mr.  Phil\n",
       "3         Id4    Osborne, Ms.  Kelsey\n",
       "4         Id5    Kadala, Ms.  Kristyn"
      ]
     },
     "execution_count": 7,
     "metadata": {},
     "output_type": "execute_result"
    }
   ],
   "source": [
    "df3.head()"
   ]
  },
  {
   "cell_type": "markdown",
   "id": "e69a09ca",
   "metadata": {},
   "source": [
    "### 2. Merging the datasets and preliminary data inspection"
   ]
  },
  {
   "cell_type": "code",
   "execution_count": 8,
   "id": "4baa0088",
   "metadata": {},
   "outputs": [],
   "source": [
    "merged_df = pd.merge(df1, df2, on='Customer ID')"
   ]
  },
  {
   "cell_type": "code",
   "execution_count": 9,
   "id": "bc2062b3",
   "metadata": {},
   "outputs": [],
   "source": [
    "df=pd.merge(merged_df,df3,on='Customer ID')"
   ]
  },
  {
   "cell_type": "code",
   "execution_count": 10,
   "id": "8e522caf",
   "metadata": {},
   "outputs": [
    {
     "data": {
      "text/html": [
       "<div>\n",
       "<style scoped>\n",
       "    .dataframe tbody tr th:only-of-type {\n",
       "        vertical-align: middle;\n",
       "    }\n",
       "\n",
       "    .dataframe tbody tr th {\n",
       "        vertical-align: top;\n",
       "    }\n",
       "\n",
       "    .dataframe thead th {\n",
       "        text-align: right;\n",
       "    }\n",
       "</style>\n",
       "<table border=\"1\" class=\"dataframe\">\n",
       "  <thead>\n",
       "    <tr style=\"text-align: right;\">\n",
       "      <th></th>\n",
       "      <th>Customer ID</th>\n",
       "      <th>year</th>\n",
       "      <th>month</th>\n",
       "      <th>date</th>\n",
       "      <th>children</th>\n",
       "      <th>charges</th>\n",
       "      <th>Hospital tier</th>\n",
       "      <th>City tier</th>\n",
       "      <th>State ID</th>\n",
       "      <th>BMI</th>\n",
       "      <th>HBA1C</th>\n",
       "      <th>Heart Issues</th>\n",
       "      <th>Any Transplants</th>\n",
       "      <th>Cancer history</th>\n",
       "      <th>NumberOfMajorSurgeries</th>\n",
       "      <th>smoker</th>\n",
       "      <th>name</th>\n",
       "    </tr>\n",
       "  </thead>\n",
       "  <tbody>\n",
       "    <tr>\n",
       "      <th>0</th>\n",
       "      <td>Id2335</td>\n",
       "      <td>1992</td>\n",
       "      <td>Jul</td>\n",
       "      <td>9</td>\n",
       "      <td>0</td>\n",
       "      <td>563.84</td>\n",
       "      <td>tier - 2</td>\n",
       "      <td>tier - 3</td>\n",
       "      <td>R1013</td>\n",
       "      <td>17.58</td>\n",
       "      <td>4.51</td>\n",
       "      <td>No</td>\n",
       "      <td>No</td>\n",
       "      <td>No</td>\n",
       "      <td>1</td>\n",
       "      <td>No</td>\n",
       "      <td>German, Mr.  Aaron K</td>\n",
       "    </tr>\n",
       "    <tr>\n",
       "      <th>1</th>\n",
       "      <td>Id2334</td>\n",
       "      <td>1992</td>\n",
       "      <td>Nov</td>\n",
       "      <td>30</td>\n",
       "      <td>0</td>\n",
       "      <td>570.62</td>\n",
       "      <td>tier - 2</td>\n",
       "      <td>tier - 1</td>\n",
       "      <td>R1013</td>\n",
       "      <td>17.60</td>\n",
       "      <td>4.39</td>\n",
       "      <td>No</td>\n",
       "      <td>No</td>\n",
       "      <td>No</td>\n",
       "      <td>1</td>\n",
       "      <td>No</td>\n",
       "      <td>Rosendahl, Mr.  Evan P</td>\n",
       "    </tr>\n",
       "    <tr>\n",
       "      <th>2</th>\n",
       "      <td>Id2333</td>\n",
       "      <td>1993</td>\n",
       "      <td>Jun</td>\n",
       "      <td>30</td>\n",
       "      <td>0</td>\n",
       "      <td>600.00</td>\n",
       "      <td>tier - 2</td>\n",
       "      <td>tier - 1</td>\n",
       "      <td>R1013</td>\n",
       "      <td>16.47</td>\n",
       "      <td>6.35</td>\n",
       "      <td>No</td>\n",
       "      <td>No</td>\n",
       "      <td>Yes</td>\n",
       "      <td>1</td>\n",
       "      <td>No</td>\n",
       "      <td>Albano, Ms.  Julie</td>\n",
       "    </tr>\n",
       "    <tr>\n",
       "      <th>3</th>\n",
       "      <td>Id2332</td>\n",
       "      <td>1992</td>\n",
       "      <td>Sep</td>\n",
       "      <td>13</td>\n",
       "      <td>0</td>\n",
       "      <td>604.54</td>\n",
       "      <td>tier - 3</td>\n",
       "      <td>tier - 3</td>\n",
       "      <td>R1013</td>\n",
       "      <td>17.70</td>\n",
       "      <td>6.28</td>\n",
       "      <td>No</td>\n",
       "      <td>No</td>\n",
       "      <td>No</td>\n",
       "      <td>1</td>\n",
       "      <td>No</td>\n",
       "      <td>Riveros Gonzalez, Mr.  Juan D. Sr.</td>\n",
       "    </tr>\n",
       "    <tr>\n",
       "      <th>4</th>\n",
       "      <td>Id2331</td>\n",
       "      <td>1998</td>\n",
       "      <td>Jul</td>\n",
       "      <td>27</td>\n",
       "      <td>0</td>\n",
       "      <td>637.26</td>\n",
       "      <td>tier - 3</td>\n",
       "      <td>tier - 3</td>\n",
       "      <td>R1013</td>\n",
       "      <td>22.34</td>\n",
       "      <td>5.57</td>\n",
       "      <td>No</td>\n",
       "      <td>No</td>\n",
       "      <td>No</td>\n",
       "      <td>1</td>\n",
       "      <td>No</td>\n",
       "      <td>Brietzke, Mr.  Jordan</td>\n",
       "    </tr>\n",
       "  </tbody>\n",
       "</table>\n",
       "</div>"
      ],
      "text/plain": [
       "  Customer ID  year month  date  children  charges Hospital tier City tier  \\\n",
       "0      Id2335  1992   Jul     9         0   563.84      tier - 2  tier - 3   \n",
       "1      Id2334  1992   Nov    30         0   570.62      tier - 2  tier - 1   \n",
       "2      Id2333  1993   Jun    30         0   600.00      tier - 2  tier - 1   \n",
       "3      Id2332  1992   Sep    13         0   604.54      tier - 3  tier - 3   \n",
       "4      Id2331  1998   Jul    27         0   637.26      tier - 3  tier - 3   \n",
       "\n",
       "  State ID    BMI  HBA1C Heart Issues Any Transplants Cancer history  \\\n",
       "0    R1013  17.58   4.51           No              No             No   \n",
       "1    R1013  17.60   4.39           No              No             No   \n",
       "2    R1013  16.47   6.35           No              No            Yes   \n",
       "3    R1013  17.70   6.28           No              No             No   \n",
       "4    R1013  22.34   5.57           No              No             No   \n",
       "\n",
       "  NumberOfMajorSurgeries smoker                                name  \n",
       "0                      1     No                German, Mr.  Aaron K  \n",
       "1                      1     No              Rosendahl, Mr.  Evan P  \n",
       "2                      1     No                  Albano, Ms.  Julie  \n",
       "3                      1     No  Riveros Gonzalez, Mr.  Juan D. Sr.  \n",
       "4                      1     No               Brietzke, Mr.  Jordan  "
      ]
     },
     "execution_count": 10,
     "metadata": {},
     "output_type": "execute_result"
    }
   ],
   "source": [
    "df.head()"
   ]
  },
  {
   "cell_type": "code",
   "execution_count": 11,
   "id": "ad84d617",
   "metadata": {},
   "outputs": [
    {
     "data": {
      "text/plain": [
       "(2335, 17)"
      ]
     },
     "execution_count": 11,
     "metadata": {},
     "output_type": "execute_result"
    }
   ],
   "source": [
    "df.shape"
   ]
  },
  {
   "cell_type": "code",
   "execution_count": 12,
   "id": "ae13c5b6",
   "metadata": {},
   "outputs": [
    {
     "data": {
      "text/plain": [
       "Customer ID               0\n",
       "year                      0\n",
       "month                     0\n",
       "date                      0\n",
       "children                  0\n",
       "charges                   0\n",
       "Hospital tier             0\n",
       "City tier                 0\n",
       "State ID                  0\n",
       "BMI                       0\n",
       "HBA1C                     0\n",
       "Heart Issues              0\n",
       "Any Transplants           0\n",
       "Cancer history            0\n",
       "NumberOfMajorSurgeries    0\n",
       "smoker                    0\n",
       "name                      0\n",
       "dtype: int64"
      ]
     },
     "execution_count": 12,
     "metadata": {},
     "output_type": "execute_result"
    }
   ],
   "source": [
    "df.isnull().sum()"
   ]
  },
  {
   "cell_type": "markdown",
   "id": "231928e3",
   "metadata": {},
   "source": [
    "##### There are no missing values and duplicates in the dataset"
   ]
  },
  {
   "cell_type": "code",
   "execution_count": 13,
   "id": "83a25a17",
   "metadata": {},
   "outputs": [
    {
     "data": {
      "text/plain": [
       "0"
      ]
     },
     "execution_count": 13,
     "metadata": {},
     "output_type": "execute_result"
    }
   ],
   "source": [
    "df.duplicated().sum()"
   ]
  },
  {
   "cell_type": "markdown",
   "id": "7f4146f0",
   "metadata": {},
   "source": [
    "### 3. Find the percentage of rows that have trivial value (for example, ?), and delete such rows if they do not contain significant information"
   ]
  },
  {
   "cell_type": "code",
   "execution_count": 14,
   "id": "96a5d54c",
   "metadata": {},
   "outputs": [
    {
     "data": {
      "text/plain": [
       "array(['1992', '1993', '1998', '2001', '1995', '2002', '1997', '1999',\n",
       "       '1996', '2004', '2000', '1994', '2003', '1989', '1991', '1988',\n",
       "       '1990', '1987', '1986', '1981', '1985', '1984', '1983', '1982',\n",
       "       '1980', '1979', '1977', '1978', '1974', '1973', '1972', '1975',\n",
       "       '1971', '1970', '1969', '1976', '1968', '1966', '1965', '1967',\n",
       "       '1962', '1963', '1964', '?', '1961', '1960', '1959', '1958'],\n",
       "      dtype=object)"
      ]
     },
     "execution_count": 14,
     "metadata": {},
     "output_type": "execute_result"
    }
   ],
   "source": [
    "df['year'].unique()"
   ]
  },
  {
   "cell_type": "code",
   "execution_count": 15,
   "id": "14b12cbd",
   "metadata": {},
   "outputs": [],
   "source": [
    "cols_with_question_mark = df.columns[df.isin(['?']).any()]"
   ]
  },
  {
   "cell_type": "code",
   "execution_count": 16,
   "id": "28cae0ed",
   "metadata": {},
   "outputs": [
    {
     "data": {
      "text/plain": [
       "Index(['year', 'month', 'Hospital tier', 'City tier', 'State ID', 'smoker'], dtype='object')"
      ]
     },
     "execution_count": 16,
     "metadata": {},
     "output_type": "execute_result"
    }
   ],
   "source": [
    "cols_with_question_mark"
   ]
  },
  {
   "cell_type": "markdown",
   "id": "5e69182c",
   "metadata": {},
   "source": [
    "##### We can see ? values in these columns"
   ]
  },
  {
   "cell_type": "code",
   "execution_count": 17,
   "id": "88dc1b55",
   "metadata": {},
   "outputs": [],
   "source": [
    "trivial_percentage_year = (df['year'] == '?').sum() / len(df) * 100"
   ]
  },
  {
   "cell_type": "code",
   "execution_count": 18,
   "id": "2fd34ce8",
   "metadata": {},
   "outputs": [
    {
     "data": {
      "text/plain": [
       "0.08565310492505353"
      ]
     },
     "execution_count": 18,
     "metadata": {},
     "output_type": "execute_result"
    }
   ],
   "source": [
    "trivial_percentage_year"
   ]
  },
  {
   "cell_type": "code",
   "execution_count": 19,
   "id": "34cf117a",
   "metadata": {},
   "outputs": [],
   "source": [
    "df = df[df['year'] != '?']"
   ]
  },
  {
   "cell_type": "code",
   "execution_count": 20,
   "id": "72e3c37b",
   "metadata": {},
   "outputs": [
    {
     "data": {
      "text/plain": [
       "(2333, 17)"
      ]
     },
     "execution_count": 20,
     "metadata": {},
     "output_type": "execute_result"
    }
   ],
   "source": [
    "df.shape"
   ]
  },
  {
   "cell_type": "code",
   "execution_count": 21,
   "id": "c7a0ed05",
   "metadata": {},
   "outputs": [
    {
     "data": {
      "text/plain": [
       "array(['Jul', 'Nov', 'Jun', 'Sep', 'Dec', '?', 'Aug', 'Oct'], dtype=object)"
      ]
     },
     "execution_count": 21,
     "metadata": {},
     "output_type": "execute_result"
    }
   ],
   "source": [
    "df['month'].unique()"
   ]
  },
  {
   "cell_type": "code",
   "execution_count": 22,
   "id": "96da7afe",
   "metadata": {},
   "outputs": [],
   "source": [
    "trivial_percentage_month=(df['month']=='?').sum()/len(df)*100"
   ]
  },
  {
   "cell_type": "code",
   "execution_count": 23,
   "id": "0980b297",
   "metadata": {},
   "outputs": [
    {
     "data": {
      "text/plain": [
       "0.12858979854264896"
      ]
     },
     "execution_count": 23,
     "metadata": {},
     "output_type": "execute_result"
    }
   ],
   "source": [
    "trivial_percentage_month"
   ]
  },
  {
   "cell_type": "code",
   "execution_count": 24,
   "id": "b234e1a3",
   "metadata": {},
   "outputs": [],
   "source": [
    "df=df[df['month']!='?']"
   ]
  },
  {
   "cell_type": "code",
   "execution_count": 25,
   "id": "2646df85",
   "metadata": {},
   "outputs": [
    {
     "data": {
      "text/plain": [
       "(2330, 17)"
      ]
     },
     "execution_count": 25,
     "metadata": {},
     "output_type": "execute_result"
    }
   ],
   "source": [
    "df.shape"
   ]
  },
  {
   "cell_type": "code",
   "execution_count": 26,
   "id": "4be4aca2",
   "metadata": {},
   "outputs": [
    {
     "data": {
      "text/plain": [
       "array([ 9, 30, 13, 27, 20,  1,  4, 29, 12, 26, 14, 22, 28,  7, 18, 19,  5,\n",
       "       17, 24,  6, 11, 15, 25, 10,  2, 16,  8, 21,  3, 23], dtype=int64)"
      ]
     },
     "execution_count": 26,
     "metadata": {},
     "output_type": "execute_result"
    }
   ],
   "source": [
    "df.date.unique()"
   ]
  },
  {
   "cell_type": "code",
   "execution_count": 27,
   "id": "c55ad4d0",
   "metadata": {},
   "outputs": [
    {
     "data": {
      "text/plain": [
       "array([0, 1, 3, 2, 4, 5], dtype=int64)"
      ]
     },
     "execution_count": 27,
     "metadata": {},
     "output_type": "execute_result"
    }
   ],
   "source": [
    "df.children.unique()"
   ]
  },
  {
   "cell_type": "code",
   "execution_count": 28,
   "id": "e7b947ce",
   "metadata": {},
   "outputs": [
    {
     "data": {
      "text/plain": [
       "dtype('float64')"
      ]
     },
     "execution_count": 28,
     "metadata": {},
     "output_type": "execute_result"
    }
   ],
   "source": [
    "df.charges.dtypes"
   ]
  },
  {
   "cell_type": "code",
   "execution_count": 29,
   "id": "47d3f56c",
   "metadata": {},
   "outputs": [
    {
     "data": {
      "text/plain": [
       "array(['tier - 2', 'tier - 3', '?', 'tier - 1'], dtype=object)"
      ]
     },
     "execution_count": 29,
     "metadata": {},
     "output_type": "execute_result"
    }
   ],
   "source": [
    "df['Hospital tier'].unique()"
   ]
  },
  {
   "cell_type": "code",
   "execution_count": 30,
   "id": "6eb49c6e",
   "metadata": {},
   "outputs": [
    {
     "name": "stdout",
     "output_type": "stream",
     "text": [
      "The column has '?' in it.\n"
     ]
    }
   ],
   "source": [
    "has_question_mark = \"?\" in df['Hospital tier'].values\n",
    "\n",
    "# print the result\n",
    "if has_question_mark:\n",
    "    print(\"The column has '?' in it.\")\n",
    "else:\n",
    "    print(\"The column does not have '?' in it.\")"
   ]
  },
  {
   "cell_type": "code",
   "execution_count": 31,
   "id": "6e7c6a6c",
   "metadata": {},
   "outputs": [],
   "source": [
    "df=df[df['Hospital tier']!='?']"
   ]
  },
  {
   "cell_type": "code",
   "execution_count": 32,
   "id": "4e2ff73d",
   "metadata": {},
   "outputs": [
    {
     "data": {
      "text/plain": [
       "(2329, 17)"
      ]
     },
     "execution_count": 32,
     "metadata": {},
     "output_type": "execute_result"
    }
   ],
   "source": [
    "df.shape"
   ]
  },
  {
   "cell_type": "code",
   "execution_count": 33,
   "id": "1acba26e",
   "metadata": {},
   "outputs": [
    {
     "name": "stdout",
     "output_type": "stream",
     "text": [
      "The column does not have '?' in it.\n"
     ]
    }
   ],
   "source": [
    "has_question_mark = \"?\" in df['City tier'].values\n",
    "\n",
    "# print the result\n",
    "if has_question_mark:\n",
    "    print(\"The column has '?' in it.\")\n",
    "else:\n",
    "    print(\"The column does not have '?' in it.\")"
   ]
  },
  {
   "cell_type": "code",
   "execution_count": 34,
   "id": "d4edd1ec",
   "metadata": {},
   "outputs": [
    {
     "data": {
      "text/plain": [
       "array(['tier - 3', 'tier - 1', 'tier - 2'], dtype=object)"
      ]
     },
     "execution_count": 34,
     "metadata": {},
     "output_type": "execute_result"
    }
   ],
   "source": [
    "df['City tier'].unique()"
   ]
  },
  {
   "cell_type": "code",
   "execution_count": 35,
   "id": "a5677e4a",
   "metadata": {},
   "outputs": [
    {
     "data": {
      "text/plain": [
       "array(['R1013', 'R1012', 'R1011', 'R1015', 'R1019', 'R1016', 'R1018',\n",
       "       'R1025', 'R1024', 'R1023', 'R1014', 'R1021', 'R1017', 'R1020',\n",
       "       'R1026', '?', 'R1022'], dtype=object)"
      ]
     },
     "execution_count": 35,
     "metadata": {},
     "output_type": "execute_result"
    }
   ],
   "source": [
    "df['State ID'].unique()"
   ]
  },
  {
   "cell_type": "code",
   "execution_count": 36,
   "id": "ce4b2860",
   "metadata": {},
   "outputs": [],
   "source": [
    "df=df[df['State ID']!='?']"
   ]
  },
  {
   "cell_type": "code",
   "execution_count": 37,
   "id": "2dcc7767",
   "metadata": {},
   "outputs": [],
   "source": [
    "df=df[df['smoker']!='?']"
   ]
  },
  {
   "cell_type": "markdown",
   "id": "003d2ebb",
   "metadata": {},
   "source": [
    "### 4. The variable NumberOfMajorSurgeries also appears to have string values. Apply a suitable method to clean up this variable."
   ]
  },
  {
   "cell_type": "code",
   "execution_count": 38,
   "id": "97a85c81",
   "metadata": {},
   "outputs": [
    {
     "data": {
      "text/plain": [
       "array(['1', 'No major surgery', '2', '3'], dtype=object)"
      ]
     },
     "execution_count": 38,
     "metadata": {},
     "output_type": "execute_result"
    }
   ],
   "source": [
    "df['NumberOfMajorSurgeries'].unique()"
   ]
  },
  {
   "cell_type": "code",
   "execution_count": 39,
   "id": "a1e2cec5",
   "metadata": {},
   "outputs": [],
   "source": [
    "df['NumberOfMajorSurgeries']=df['NumberOfMajorSurgeries'].replace('No major surgery', 0)"
   ]
  },
  {
   "cell_type": "code",
   "execution_count": 40,
   "id": "d3b7e817",
   "metadata": {},
   "outputs": [
    {
     "data": {
      "text/plain": [
       "array(['1', 0, '2', '3'], dtype=object)"
      ]
     },
     "execution_count": 40,
     "metadata": {},
     "output_type": "execute_result"
    }
   ],
   "source": [
    "df['NumberOfMajorSurgeries'].unique()"
   ]
  },
  {
   "cell_type": "markdown",
   "id": "eb8b68d5",
   "metadata": {},
   "source": [
    "### 5. The gender of the patient may be an important factor in determining the cost of hospitalization. The salutations in a beneficiary's name can be used to determine their gender. Make a new field for the beneficiary's gender."
   ]
  },
  {
   "cell_type": "code",
   "execution_count": 41,
   "id": "f50a161d",
   "metadata": {},
   "outputs": [
    {
     "data": {
      "text/plain": [
       "0                     German, Mr.  Aaron K\n",
       "1                   Rosendahl, Mr.  Evan P\n",
       "2                       Albano, Ms.  Julie\n",
       "3       Riveros Gonzalez, Mr.  Juan D. Sr.\n",
       "4                    Brietzke, Mr.  Jordan\n",
       "                       ...                \n",
       "2329                Baker, Mr.  Russell B.\n",
       "2330                  Kadala, Ms.  Kristyn\n",
       "2331                  Osborne, Ms.  Kelsey\n",
       "2333                Lehner, Mr.  Matthew D\n",
       "2334                     Hawks, Ms.  Kelly\n",
       "Name: name, Length: 2325, dtype: object"
      ]
     },
     "execution_count": 41,
     "metadata": {},
     "output_type": "execute_result"
    }
   ],
   "source": [
    "df.name"
   ]
  },
  {
   "cell_type": "code",
   "execution_count": 42,
   "id": "64a45d44",
   "metadata": {},
   "outputs": [],
   "source": [
    "import re"
   ]
  },
  {
   "cell_type": "code",
   "execution_count": 43,
   "id": "77efd7a7",
   "metadata": {},
   "outputs": [],
   "source": [
    "salutations = df['name'].str.extract(r'(?<=, )(\\bMr\\.|\\bMrs\\.|\\bMs\\.|\\bMiss|\\bDr\\.)', flags=re.IGNORECASE, expand=False)"
   ]
  },
  {
   "cell_type": "code",
   "execution_count": 44,
   "id": "10448c3c",
   "metadata": {},
   "outputs": [],
   "source": [
    "unique_salutations = salutations.explode().unique()"
   ]
  },
  {
   "cell_type": "code",
   "execution_count": 45,
   "id": "6bc2dddd",
   "metadata": {},
   "outputs": [
    {
     "name": "stdout",
     "output_type": "stream",
     "text": [
      "['Mr.' 'Ms.' 'Mrs.']\n"
     ]
    }
   ],
   "source": [
    "print(unique_salutations)"
   ]
  },
  {
   "cell_type": "code",
   "execution_count": 46,
   "id": "5f9b87c3",
   "metadata": {},
   "outputs": [],
   "source": [
    "gender_map = {'Mr.': 'Male', 'Ms.': 'Female', 'Mrs.': 'Female'}"
   ]
  },
  {
   "cell_type": "code",
   "execution_count": 47,
   "id": "dcc9ccf6",
   "metadata": {},
   "outputs": [],
   "source": [
    "df['gender'] = salutations.map(gender_map)"
   ]
  },
  {
   "cell_type": "code",
   "execution_count": 48,
   "id": "d08c4394",
   "metadata": {},
   "outputs": [
    {
     "data": {
      "text/html": [
       "<div>\n",
       "<style scoped>\n",
       "    .dataframe tbody tr th:only-of-type {\n",
       "        vertical-align: middle;\n",
       "    }\n",
       "\n",
       "    .dataframe tbody tr th {\n",
       "        vertical-align: top;\n",
       "    }\n",
       "\n",
       "    .dataframe thead th {\n",
       "        text-align: right;\n",
       "    }\n",
       "</style>\n",
       "<table border=\"1\" class=\"dataframe\">\n",
       "  <thead>\n",
       "    <tr style=\"text-align: right;\">\n",
       "      <th></th>\n",
       "      <th>Customer ID</th>\n",
       "      <th>year</th>\n",
       "      <th>month</th>\n",
       "      <th>date</th>\n",
       "      <th>children</th>\n",
       "      <th>charges</th>\n",
       "      <th>Hospital tier</th>\n",
       "      <th>City tier</th>\n",
       "      <th>State ID</th>\n",
       "      <th>BMI</th>\n",
       "      <th>HBA1C</th>\n",
       "      <th>Heart Issues</th>\n",
       "      <th>Any Transplants</th>\n",
       "      <th>Cancer history</th>\n",
       "      <th>NumberOfMajorSurgeries</th>\n",
       "      <th>smoker</th>\n",
       "      <th>name</th>\n",
       "      <th>gender</th>\n",
       "    </tr>\n",
       "  </thead>\n",
       "  <tbody>\n",
       "    <tr>\n",
       "      <th>0</th>\n",
       "      <td>Id2335</td>\n",
       "      <td>1992</td>\n",
       "      <td>Jul</td>\n",
       "      <td>9</td>\n",
       "      <td>0</td>\n",
       "      <td>563.84</td>\n",
       "      <td>tier - 2</td>\n",
       "      <td>tier - 3</td>\n",
       "      <td>R1013</td>\n",
       "      <td>17.58</td>\n",
       "      <td>4.51</td>\n",
       "      <td>No</td>\n",
       "      <td>No</td>\n",
       "      <td>No</td>\n",
       "      <td>1</td>\n",
       "      <td>No</td>\n",
       "      <td>German, Mr.  Aaron K</td>\n",
       "      <td>Male</td>\n",
       "    </tr>\n",
       "    <tr>\n",
       "      <th>1</th>\n",
       "      <td>Id2334</td>\n",
       "      <td>1992</td>\n",
       "      <td>Nov</td>\n",
       "      <td>30</td>\n",
       "      <td>0</td>\n",
       "      <td>570.62</td>\n",
       "      <td>tier - 2</td>\n",
       "      <td>tier - 1</td>\n",
       "      <td>R1013</td>\n",
       "      <td>17.60</td>\n",
       "      <td>4.39</td>\n",
       "      <td>No</td>\n",
       "      <td>No</td>\n",
       "      <td>No</td>\n",
       "      <td>1</td>\n",
       "      <td>No</td>\n",
       "      <td>Rosendahl, Mr.  Evan P</td>\n",
       "      <td>Male</td>\n",
       "    </tr>\n",
       "    <tr>\n",
       "      <th>2</th>\n",
       "      <td>Id2333</td>\n",
       "      <td>1993</td>\n",
       "      <td>Jun</td>\n",
       "      <td>30</td>\n",
       "      <td>0</td>\n",
       "      <td>600.00</td>\n",
       "      <td>tier - 2</td>\n",
       "      <td>tier - 1</td>\n",
       "      <td>R1013</td>\n",
       "      <td>16.47</td>\n",
       "      <td>6.35</td>\n",
       "      <td>No</td>\n",
       "      <td>No</td>\n",
       "      <td>Yes</td>\n",
       "      <td>1</td>\n",
       "      <td>No</td>\n",
       "      <td>Albano, Ms.  Julie</td>\n",
       "      <td>Female</td>\n",
       "    </tr>\n",
       "    <tr>\n",
       "      <th>3</th>\n",
       "      <td>Id2332</td>\n",
       "      <td>1992</td>\n",
       "      <td>Sep</td>\n",
       "      <td>13</td>\n",
       "      <td>0</td>\n",
       "      <td>604.54</td>\n",
       "      <td>tier - 3</td>\n",
       "      <td>tier - 3</td>\n",
       "      <td>R1013</td>\n",
       "      <td>17.70</td>\n",
       "      <td>6.28</td>\n",
       "      <td>No</td>\n",
       "      <td>No</td>\n",
       "      <td>No</td>\n",
       "      <td>1</td>\n",
       "      <td>No</td>\n",
       "      <td>Riveros Gonzalez, Mr.  Juan D. Sr.</td>\n",
       "      <td>Male</td>\n",
       "    </tr>\n",
       "    <tr>\n",
       "      <th>4</th>\n",
       "      <td>Id2331</td>\n",
       "      <td>1998</td>\n",
       "      <td>Jul</td>\n",
       "      <td>27</td>\n",
       "      <td>0</td>\n",
       "      <td>637.26</td>\n",
       "      <td>tier - 3</td>\n",
       "      <td>tier - 3</td>\n",
       "      <td>R1013</td>\n",
       "      <td>22.34</td>\n",
       "      <td>5.57</td>\n",
       "      <td>No</td>\n",
       "      <td>No</td>\n",
       "      <td>No</td>\n",
       "      <td>1</td>\n",
       "      <td>No</td>\n",
       "      <td>Brietzke, Mr.  Jordan</td>\n",
       "      <td>Male</td>\n",
       "    </tr>\n",
       "    <tr>\n",
       "      <th>5</th>\n",
       "      <td>Id2330</td>\n",
       "      <td>2001</td>\n",
       "      <td>Nov</td>\n",
       "      <td>20</td>\n",
       "      <td>0</td>\n",
       "      <td>646.14</td>\n",
       "      <td>tier - 3</td>\n",
       "      <td>tier - 3</td>\n",
       "      <td>R1012</td>\n",
       "      <td>22.24</td>\n",
       "      <td>4.29</td>\n",
       "      <td>yes</td>\n",
       "      <td>No</td>\n",
       "      <td>No</td>\n",
       "      <td>0</td>\n",
       "      <td>No</td>\n",
       "      <td>Kohls, Ms.  Katy</td>\n",
       "      <td>Female</td>\n",
       "    </tr>\n",
       "    <tr>\n",
       "      <th>6</th>\n",
       "      <td>Id2329</td>\n",
       "      <td>1993</td>\n",
       "      <td>Jun</td>\n",
       "      <td>1</td>\n",
       "      <td>0</td>\n",
       "      <td>650.00</td>\n",
       "      <td>tier - 3</td>\n",
       "      <td>tier - 3</td>\n",
       "      <td>R1013</td>\n",
       "      <td>17.07</td>\n",
       "      <td>5.22</td>\n",
       "      <td>No</td>\n",
       "      <td>No</td>\n",
       "      <td>Yes</td>\n",
       "      <td>1</td>\n",
       "      <td>No</td>\n",
       "      <td>Bohinski, Ms.  Susan E</td>\n",
       "      <td>Female</td>\n",
       "    </tr>\n",
       "    <tr>\n",
       "      <th>7</th>\n",
       "      <td>Id2328</td>\n",
       "      <td>1995</td>\n",
       "      <td>Jul</td>\n",
       "      <td>4</td>\n",
       "      <td>0</td>\n",
       "      <td>650.00</td>\n",
       "      <td>tier - 3</td>\n",
       "      <td>tier - 3</td>\n",
       "      <td>R1013</td>\n",
       "      <td>17.82</td>\n",
       "      <td>5.26</td>\n",
       "      <td>yes</td>\n",
       "      <td>No</td>\n",
       "      <td>No</td>\n",
       "      <td>1</td>\n",
       "      <td>No</td>\n",
       "      <td>Avery, Ms.  Nicole</td>\n",
       "      <td>Female</td>\n",
       "    </tr>\n",
       "    <tr>\n",
       "      <th>8</th>\n",
       "      <td>Id2327</td>\n",
       "      <td>2002</td>\n",
       "      <td>Nov</td>\n",
       "      <td>29</td>\n",
       "      <td>0</td>\n",
       "      <td>668.00</td>\n",
       "      <td>tier - 3</td>\n",
       "      <td>tier - 2</td>\n",
       "      <td>R1012</td>\n",
       "      <td>21.77</td>\n",
       "      <td>10.67</td>\n",
       "      <td>No</td>\n",
       "      <td>No</td>\n",
       "      <td>No</td>\n",
       "      <td>0</td>\n",
       "      <td>No</td>\n",
       "      <td>Howell, Ms.  Laura</td>\n",
       "      <td>Female</td>\n",
       "    </tr>\n",
       "    <tr>\n",
       "      <th>9</th>\n",
       "      <td>Id2326</td>\n",
       "      <td>1997</td>\n",
       "      <td>Nov</td>\n",
       "      <td>9</td>\n",
       "      <td>0</td>\n",
       "      <td>670.00</td>\n",
       "      <td>tier - 3</td>\n",
       "      <td>tier - 3</td>\n",
       "      <td>R1013</td>\n",
       "      <td>20.10</td>\n",
       "      <td>5.60</td>\n",
       "      <td>yes</td>\n",
       "      <td>No</td>\n",
       "      <td>Yes</td>\n",
       "      <td>1</td>\n",
       "      <td>No</td>\n",
       "      <td>Castro, Mr.  Sebastian</td>\n",
       "      <td>Male</td>\n",
       "    </tr>\n",
       "    <tr>\n",
       "      <th>10</th>\n",
       "      <td>Id2325</td>\n",
       "      <td>2001</td>\n",
       "      <td>Sep</td>\n",
       "      <td>12</td>\n",
       "      <td>0</td>\n",
       "      <td>687.54</td>\n",
       "      <td>tier - 3</td>\n",
       "      <td>tier - 2</td>\n",
       "      <td>R1013</td>\n",
       "      <td>24.76</td>\n",
       "      <td>4.54</td>\n",
       "      <td>yes</td>\n",
       "      <td>No</td>\n",
       "      <td>No</td>\n",
       "      <td>0</td>\n",
       "      <td>No</td>\n",
       "      <td>Hines, Mr.  Fred</td>\n",
       "      <td>Male</td>\n",
       "    </tr>\n",
       "    <tr>\n",
       "      <th>12</th>\n",
       "      <td>Id2323</td>\n",
       "      <td>1999</td>\n",
       "      <td>Dec</td>\n",
       "      <td>14</td>\n",
       "      <td>0</td>\n",
       "      <td>722.99</td>\n",
       "      <td>tier - 3</td>\n",
       "      <td>tier - 1</td>\n",
       "      <td>R1013</td>\n",
       "      <td>23.35</td>\n",
       "      <td>5.94</td>\n",
       "      <td>No</td>\n",
       "      <td>No</td>\n",
       "      <td>No</td>\n",
       "      <td>0</td>\n",
       "      <td>No</td>\n",
       "      <td>Buss, Mr.  Matthew</td>\n",
       "      <td>Male</td>\n",
       "    </tr>\n",
       "    <tr>\n",
       "      <th>14</th>\n",
       "      <td>Id2321</td>\n",
       "      <td>1993</td>\n",
       "      <td>Aug</td>\n",
       "      <td>9</td>\n",
       "      <td>0</td>\n",
       "      <td>760.00</td>\n",
       "      <td>tier - 3</td>\n",
       "      <td>tier - 1</td>\n",
       "      <td>R1013</td>\n",
       "      <td>17.86</td>\n",
       "      <td>5.43</td>\n",
       "      <td>No</td>\n",
       "      <td>No</td>\n",
       "      <td>Yes</td>\n",
       "      <td>1</td>\n",
       "      <td>No</td>\n",
       "      <td>Danielson, Mr.  Thomas</td>\n",
       "      <td>Male</td>\n",
       "    </tr>\n",
       "    <tr>\n",
       "      <th>15</th>\n",
       "      <td>Id2320</td>\n",
       "      <td>1996</td>\n",
       "      <td>Oct</td>\n",
       "      <td>22</td>\n",
       "      <td>0</td>\n",
       "      <td>760.00</td>\n",
       "      <td>tier - 3</td>\n",
       "      <td>tier - 3</td>\n",
       "      <td>R1013</td>\n",
       "      <td>19.21</td>\n",
       "      <td>5.53</td>\n",
       "      <td>yes</td>\n",
       "      <td>No</td>\n",
       "      <td>No</td>\n",
       "      <td>0</td>\n",
       "      <td>No</td>\n",
       "      <td>Graves - Rostro, Ms.  Lindy</td>\n",
       "      <td>Female</td>\n",
       "    </tr>\n",
       "    <tr>\n",
       "      <th>16</th>\n",
       "      <td>Id2319</td>\n",
       "      <td>1993</td>\n",
       "      <td>Jun</td>\n",
       "      <td>28</td>\n",
       "      <td>0</td>\n",
       "      <td>770.00</td>\n",
       "      <td>tier - 3</td>\n",
       "      <td>tier - 3</td>\n",
       "      <td>R1013</td>\n",
       "      <td>17.08</td>\n",
       "      <td>5.73</td>\n",
       "      <td>No</td>\n",
       "      <td>No</td>\n",
       "      <td>Yes</td>\n",
       "      <td>1</td>\n",
       "      <td>No</td>\n",
       "      <td>Petermann, Mr.  Theodore A.</td>\n",
       "      <td>Male</td>\n",
       "    </tr>\n",
       "  </tbody>\n",
       "</table>\n",
       "</div>"
      ],
      "text/plain": [
       "   Customer ID  year month  date  children  charges Hospital tier City tier  \\\n",
       "0       Id2335  1992   Jul     9         0   563.84      tier - 2  tier - 3   \n",
       "1       Id2334  1992   Nov    30         0   570.62      tier - 2  tier - 1   \n",
       "2       Id2333  1993   Jun    30         0   600.00      tier - 2  tier - 1   \n",
       "3       Id2332  1992   Sep    13         0   604.54      tier - 3  tier - 3   \n",
       "4       Id2331  1998   Jul    27         0   637.26      tier - 3  tier - 3   \n",
       "5       Id2330  2001   Nov    20         0   646.14      tier - 3  tier - 3   \n",
       "6       Id2329  1993   Jun     1         0   650.00      tier - 3  tier - 3   \n",
       "7       Id2328  1995   Jul     4         0   650.00      tier - 3  tier - 3   \n",
       "8       Id2327  2002   Nov    29         0   668.00      tier - 3  tier - 2   \n",
       "9       Id2326  1997   Nov     9         0   670.00      tier - 3  tier - 3   \n",
       "10      Id2325  2001   Sep    12         0   687.54      tier - 3  tier - 2   \n",
       "12      Id2323  1999   Dec    14         0   722.99      tier - 3  tier - 1   \n",
       "14      Id2321  1993   Aug     9         0   760.00      tier - 3  tier - 1   \n",
       "15      Id2320  1996   Oct    22         0   760.00      tier - 3  tier - 3   \n",
       "16      Id2319  1993   Jun    28         0   770.00      tier - 3  tier - 3   \n",
       "\n",
       "   State ID    BMI  HBA1C Heart Issues Any Transplants Cancer history  \\\n",
       "0     R1013  17.58   4.51           No              No             No   \n",
       "1     R1013  17.60   4.39           No              No             No   \n",
       "2     R1013  16.47   6.35           No              No            Yes   \n",
       "3     R1013  17.70   6.28           No              No             No   \n",
       "4     R1013  22.34   5.57           No              No             No   \n",
       "5     R1012  22.24   4.29          yes              No             No   \n",
       "6     R1013  17.07   5.22           No              No            Yes   \n",
       "7     R1013  17.82   5.26          yes              No             No   \n",
       "8     R1012  21.77  10.67           No              No             No   \n",
       "9     R1013  20.10   5.60          yes              No            Yes   \n",
       "10    R1013  24.76   4.54          yes              No             No   \n",
       "12    R1013  23.35   5.94           No              No             No   \n",
       "14    R1013  17.86   5.43           No              No            Yes   \n",
       "15    R1013  19.21   5.53          yes              No             No   \n",
       "16    R1013  17.08   5.73           No              No            Yes   \n",
       "\n",
       "   NumberOfMajorSurgeries smoker                                name  gender  \n",
       "0                       1     No                German, Mr.  Aaron K    Male  \n",
       "1                       1     No              Rosendahl, Mr.  Evan P    Male  \n",
       "2                       1     No                  Albano, Ms.  Julie  Female  \n",
       "3                       1     No  Riveros Gonzalez, Mr.  Juan D. Sr.    Male  \n",
       "4                       1     No               Brietzke, Mr.  Jordan    Male  \n",
       "5                       0     No                    Kohls, Ms.  Katy  Female  \n",
       "6                       1     No              Bohinski, Ms.  Susan E  Female  \n",
       "7                       1     No                  Avery, Ms.  Nicole  Female  \n",
       "8                       0     No                  Howell, Ms.  Laura  Female  \n",
       "9                       1     No              Castro, Mr.  Sebastian    Male  \n",
       "10                      0     No                    Hines, Mr.  Fred    Male  \n",
       "12                      0     No                  Buss, Mr.  Matthew    Male  \n",
       "14                      1     No              Danielson, Mr.  Thomas    Male  \n",
       "15                      0     No         Graves - Rostro, Ms.  Lindy  Female  \n",
       "16                      1     No         Petermann, Mr.  Theodore A.    Male  "
      ]
     },
     "execution_count": 48,
     "metadata": {},
     "output_type": "execute_result"
    }
   ],
   "source": [
    "df.head(15)"
   ]
  },
  {
   "cell_type": "markdown",
   "id": "f099d021",
   "metadata": {},
   "source": [
    "### 6. Age appears to be a significant factor in this analysis. Calculate the patients' ages based on their dates of birth."
   ]
  },
  {
   "cell_type": "code",
   "execution_count": 49,
   "id": "86f258fe",
   "metadata": {},
   "outputs": [],
   "source": [
    "from datetime import date\n",
    "from datetime import datetime"
   ]
  },
  {
   "cell_type": "code",
   "execution_count": 50,
   "id": "1cafbe0f",
   "metadata": {},
   "outputs": [],
   "source": [
    "df['day']=df['date']"
   ]
  },
  {
   "cell_type": "code",
   "execution_count": 51,
   "id": "6de38f56",
   "metadata": {},
   "outputs": [],
   "source": [
    "df['month'] = df['month'].apply(lambda x: datetime.strptime(x, '%b').month)"
   ]
  },
  {
   "cell_type": "code",
   "execution_count": 52,
   "id": "643b59db",
   "metadata": {},
   "outputs": [],
   "source": [
    "df['dob'] = pd.to_datetime(df[['year', 'month', 'day']])\n"
   ]
  },
  {
   "cell_type": "code",
   "execution_count": 53,
   "id": "f0eaa31a",
   "metadata": {},
   "outputs": [],
   "source": [
    "today = datetime.now()"
   ]
  },
  {
   "cell_type": "code",
   "execution_count": 54,
   "id": "96b9ca24",
   "metadata": {},
   "outputs": [],
   "source": [
    "df['age'] = (today - df['dob']).dt.days / 365.25"
   ]
  },
  {
   "cell_type": "code",
   "execution_count": 55,
   "id": "d5fe5841",
   "metadata": {},
   "outputs": [
    {
     "data": {
      "text/html": [
       "<div>\n",
       "<style scoped>\n",
       "    .dataframe tbody tr th:only-of-type {\n",
       "        vertical-align: middle;\n",
       "    }\n",
       "\n",
       "    .dataframe tbody tr th {\n",
       "        vertical-align: top;\n",
       "    }\n",
       "\n",
       "    .dataframe thead th {\n",
       "        text-align: right;\n",
       "    }\n",
       "</style>\n",
       "<table border=\"1\" class=\"dataframe\">\n",
       "  <thead>\n",
       "    <tr style=\"text-align: right;\">\n",
       "      <th></th>\n",
       "      <th>Customer ID</th>\n",
       "      <th>year</th>\n",
       "      <th>month</th>\n",
       "      <th>date</th>\n",
       "      <th>children</th>\n",
       "      <th>charges</th>\n",
       "      <th>Hospital tier</th>\n",
       "      <th>City tier</th>\n",
       "      <th>State ID</th>\n",
       "      <th>BMI</th>\n",
       "      <th>...</th>\n",
       "      <th>Heart Issues</th>\n",
       "      <th>Any Transplants</th>\n",
       "      <th>Cancer history</th>\n",
       "      <th>NumberOfMajorSurgeries</th>\n",
       "      <th>smoker</th>\n",
       "      <th>name</th>\n",
       "      <th>gender</th>\n",
       "      <th>day</th>\n",
       "      <th>dob</th>\n",
       "      <th>age</th>\n",
       "    </tr>\n",
       "  </thead>\n",
       "  <tbody>\n",
       "    <tr>\n",
       "      <th>0</th>\n",
       "      <td>Id2335</td>\n",
       "      <td>1992</td>\n",
       "      <td>7</td>\n",
       "      <td>9</td>\n",
       "      <td>0</td>\n",
       "      <td>563.84</td>\n",
       "      <td>tier - 2</td>\n",
       "      <td>tier - 3</td>\n",
       "      <td>R1013</td>\n",
       "      <td>17.58</td>\n",
       "      <td>...</td>\n",
       "      <td>No</td>\n",
       "      <td>No</td>\n",
       "      <td>No</td>\n",
       "      <td>1</td>\n",
       "      <td>No</td>\n",
       "      <td>German, Mr.  Aaron K</td>\n",
       "      <td>Male</td>\n",
       "      <td>9</td>\n",
       "      <td>1992-07-09</td>\n",
       "      <td>30.885695</td>\n",
       "    </tr>\n",
       "    <tr>\n",
       "      <th>1</th>\n",
       "      <td>Id2334</td>\n",
       "      <td>1992</td>\n",
       "      <td>11</td>\n",
       "      <td>30</td>\n",
       "      <td>0</td>\n",
       "      <td>570.62</td>\n",
       "      <td>tier - 2</td>\n",
       "      <td>tier - 1</td>\n",
       "      <td>R1013</td>\n",
       "      <td>17.60</td>\n",
       "      <td>...</td>\n",
       "      <td>No</td>\n",
       "      <td>No</td>\n",
       "      <td>No</td>\n",
       "      <td>1</td>\n",
       "      <td>No</td>\n",
       "      <td>Rosendahl, Mr.  Evan P</td>\n",
       "      <td>Male</td>\n",
       "      <td>30</td>\n",
       "      <td>1992-11-30</td>\n",
       "      <td>30.491444</td>\n",
       "    </tr>\n",
       "    <tr>\n",
       "      <th>2</th>\n",
       "      <td>Id2333</td>\n",
       "      <td>1993</td>\n",
       "      <td>6</td>\n",
       "      <td>30</td>\n",
       "      <td>0</td>\n",
       "      <td>600.00</td>\n",
       "      <td>tier - 2</td>\n",
       "      <td>tier - 1</td>\n",
       "      <td>R1013</td>\n",
       "      <td>16.47</td>\n",
       "      <td>...</td>\n",
       "      <td>No</td>\n",
       "      <td>No</td>\n",
       "      <td>Yes</td>\n",
       "      <td>1</td>\n",
       "      <td>No</td>\n",
       "      <td>Albano, Ms.  Julie</td>\n",
       "      <td>Female</td>\n",
       "      <td>30</td>\n",
       "      <td>1993-06-30</td>\n",
       "      <td>29.911020</td>\n",
       "    </tr>\n",
       "    <tr>\n",
       "      <th>3</th>\n",
       "      <td>Id2332</td>\n",
       "      <td>1992</td>\n",
       "      <td>9</td>\n",
       "      <td>13</td>\n",
       "      <td>0</td>\n",
       "      <td>604.54</td>\n",
       "      <td>tier - 3</td>\n",
       "      <td>tier - 3</td>\n",
       "      <td>R1013</td>\n",
       "      <td>17.70</td>\n",
       "      <td>...</td>\n",
       "      <td>No</td>\n",
       "      <td>No</td>\n",
       "      <td>No</td>\n",
       "      <td>1</td>\n",
       "      <td>No</td>\n",
       "      <td>Riveros Gonzalez, Mr.  Juan D. Sr.</td>\n",
       "      <td>Male</td>\n",
       "      <td>13</td>\n",
       "      <td>1992-09-13</td>\n",
       "      <td>30.704997</td>\n",
       "    </tr>\n",
       "    <tr>\n",
       "      <th>4</th>\n",
       "      <td>Id2331</td>\n",
       "      <td>1998</td>\n",
       "      <td>7</td>\n",
       "      <td>27</td>\n",
       "      <td>0</td>\n",
       "      <td>637.26</td>\n",
       "      <td>tier - 3</td>\n",
       "      <td>tier - 3</td>\n",
       "      <td>R1013</td>\n",
       "      <td>22.34</td>\n",
       "      <td>...</td>\n",
       "      <td>No</td>\n",
       "      <td>No</td>\n",
       "      <td>No</td>\n",
       "      <td>1</td>\n",
       "      <td>No</td>\n",
       "      <td>Brietzke, Mr.  Jordan</td>\n",
       "      <td>Male</td>\n",
       "      <td>27</td>\n",
       "      <td>1998-07-27</td>\n",
       "      <td>24.837782</td>\n",
       "    </tr>\n",
       "  </tbody>\n",
       "</table>\n",
       "<p>5 rows × 21 columns</p>\n",
       "</div>"
      ],
      "text/plain": [
       "  Customer ID  year  month  date  children  charges Hospital tier City tier  \\\n",
       "0      Id2335  1992      7     9         0   563.84      tier - 2  tier - 3   \n",
       "1      Id2334  1992     11    30         0   570.62      tier - 2  tier - 1   \n",
       "2      Id2333  1993      6    30         0   600.00      tier - 2  tier - 1   \n",
       "3      Id2332  1992      9    13         0   604.54      tier - 3  tier - 3   \n",
       "4      Id2331  1998      7    27         0   637.26      tier - 3  tier - 3   \n",
       "\n",
       "  State ID    BMI  ...  Heart Issues Any Transplants Cancer history  \\\n",
       "0    R1013  17.58  ...            No              No             No   \n",
       "1    R1013  17.60  ...            No              No             No   \n",
       "2    R1013  16.47  ...            No              No            Yes   \n",
       "3    R1013  17.70  ...            No              No             No   \n",
       "4    R1013  22.34  ...            No              No             No   \n",
       "\n",
       "  NumberOfMajorSurgeries smoker                                name  gender  \\\n",
       "0                      1     No                German, Mr.  Aaron K    Male   \n",
       "1                      1     No              Rosendahl, Mr.  Evan P    Male   \n",
       "2                      1     No                  Albano, Ms.  Julie  Female   \n",
       "3                      1     No  Riveros Gonzalez, Mr.  Juan D. Sr.    Male   \n",
       "4                      1     No               Brietzke, Mr.  Jordan    Male   \n",
       "\n",
       "  day        dob        age  \n",
       "0   9 1992-07-09  30.885695  \n",
       "1  30 1992-11-30  30.491444  \n",
       "2  30 1993-06-30  29.911020  \n",
       "3  13 1992-09-13  30.704997  \n",
       "4  27 1998-07-27  24.837782  \n",
       "\n",
       "[5 rows x 21 columns]"
      ]
     },
     "execution_count": 55,
     "metadata": {},
     "output_type": "execute_result"
    }
   ],
   "source": [
    "df.head()"
   ]
  },
  {
   "cell_type": "markdown",
   "id": "18e30914",
   "metadata": {},
   "source": [
    "### 7.  You should also visualize the distribution of costs using a histogram, box and whisker plot, and swarm plot."
   ]
  },
  {
   "cell_type": "code",
   "execution_count": 56,
   "id": "7a7bd49b",
   "metadata": {},
   "outputs": [
    {
     "data": {
      "image/png": "[encoded data removed]",
      "text/plain": [
       "<Figure size 432x288 with 1 Axes>"
      ]
     },
     "metadata": {
      "needs_background": "light"
     },
     "output_type": "display_data"
    }
   ],
   "source": [
    "sns.barplot(data=df, x=\"charges\", y=\"gender\")\n",
    "plt.show()"
   ]
  },
  {
   "cell_type": "code",
   "execution_count": 57,
   "id": "f3e16b4c",
   "metadata": {},
   "outputs": [
    {
     "data": {
      "text/plain": [
       "<AxesSubplot:xlabel='charges', ylabel='Count'>"
      ]
     },
     "execution_count": 57,
     "metadata": {},
     "output_type": "execute_result"
    },
    {
     "data": {
      "image/png": "[encoded data removed]",
      "text/plain": [
       "<Figure size 432x288 with 1 Axes>"
      ]
     },
     "metadata": {
      "needs_background": "light"
     },
     "output_type": "display_data"
    }
   ],
   "source": [
    "sns.histplot(data=df, x=\"charges\")"
   ]
  },
  {
   "cell_type": "code",
   "execution_count": 58,
   "id": "8f54be76",
   "metadata": {},
   "outputs": [
    {
     "data": {
      "text/plain": [
       "<AxesSubplot:xlabel='charges'>"
      ]
     },
     "execution_count": 58,
     "metadata": {},
     "output_type": "execute_result"
    },
    {
     "data": {
      "image/png": "[encoded data removed]",
      "text/plain": [
       "<Figure size 432x288 with 1 Axes>"
      ]
     },
     "metadata": {
      "needs_background": "light"
     },
     "output_type": "display_data"
    }
   ],
   "source": [
    "sns.boxplot(data=df,x=\"charges\")"
   ]
  },
  {
   "cell_type": "code",
   "execution_count": 59,
   "id": "e5d571f7",
   "metadata": {},
   "outputs": [
    {
     "data": {
      "text/plain": [
       "<AxesSubplot:xlabel='charges'>"
      ]
     },
     "execution_count": 59,
     "metadata": {},
     "output_type": "execute_result"
    },
    {
     "data": {
      "image/png": "[encoded data removed]",
      "text/plain": [
       "<Figure size 432x288 with 1 Axes>"
      ]
     },
     "metadata": {
      "needs_background": "light"
     },
     "output_type": "display_data"
    }
   ],
   "source": [
    "sns.swarmplot(data=df,x=\"charges\")"
   ]
  },
  {
   "cell_type": "code",
   "execution_count": 60,
   "id": "33a2a5d1",
   "metadata": {},
   "outputs": [
    {
     "data": {
      "text/plain": [
       "<AxesSubplot:xlabel='charges', ylabel='Count'>"
      ]
     },
     "execution_count": 60,
     "metadata": {},
     "output_type": "execute_result"
    },
    {
     "data": {
      "image/png": "[encoded data removed]",
      "text/plain": [
       "<Figure size 432x288 with 1 Axes>"
      ]
     },
     "metadata": {
      "needs_background": "light"
     },
     "output_type": "display_data"
    }
   ],
   "source": [
    "sns.histplot(df,x=\"charges\",kde=True)"
   ]
  },
  {
   "cell_type": "markdown",
   "id": "d6c31e96",
   "metadata": {},
   "source": [
    "### 8. Outlier Treatment"
   ]
  },
  {
   "cell_type": "code",
   "execution_count": 61,
   "id": "e36dc6ac",
   "metadata": {},
   "outputs": [],
   "source": [
    "Q1 = df['charges'].quantile(0.25)\n",
    "Q3 = df['charges'].quantile(0.75)\n",
    "IQR = Q3 - Q1"
   ]
  },
  {
   "cell_type": "code",
   "execution_count": 62,
   "id": "7fdef917",
   "metadata": {},
   "outputs": [],
   "source": [
    "lower_bound = Q1 - 1.5 * IQR\n",
    "upper_bound = Q3 + 1.5 * IQR"
   ]
  },
  {
   "cell_type": "code",
   "execution_count": 63,
   "id": "78338939",
   "metadata": {},
   "outputs": [],
   "source": [
    "outliers = df[(df['charges'] < lower_bound) | (df['charges'] > upper_bound)]\n",
    "num_outliers = len(outliers)"
   ]
  },
  {
   "cell_type": "code",
   "execution_count": 64,
   "id": "9853f314",
   "metadata": {},
   "outputs": [
    {
     "data": {
      "text/plain": [
       "233"
      ]
     },
     "execution_count": 64,
     "metadata": {},
     "output_type": "execute_result"
    }
   ],
   "source": [
    "num_outliers"
   ]
  },
  {
   "cell_type": "code",
   "execution_count": 65,
   "id": "5cfa22c9",
   "metadata": {},
   "outputs": [],
   "source": [
    "percentage_outliers = (num_outliers / len(df)) * 100"
   ]
  },
  {
   "cell_type": "code",
   "execution_count": 66,
   "id": "48478b1f",
   "metadata": {},
   "outputs": [
    {
     "data": {
      "text/plain": [
       "10.021505376344086"
      ]
     },
     "execution_count": 66,
     "metadata": {},
     "output_type": "execute_result"
    }
   ],
   "source": [
    "percentage_outliers"
   ]
  },
  {
   "cell_type": "code",
   "execution_count": 67,
   "id": "224408cf",
   "metadata": {},
   "outputs": [],
   "source": [
    "df = df.drop(df[(df['charges'] < lower_bound) | (df['charges'] > upper_bound)].index)"
   ]
  },
  {
   "cell_type": "code",
   "execution_count": 68,
   "id": "d1b8a961",
   "metadata": {},
   "outputs": [
    {
     "data": {
      "text/plain": [
       "(2092, 21)"
      ]
     },
     "execution_count": 68,
     "metadata": {},
     "output_type": "execute_result"
    }
   ],
   "source": [
    "df.shape"
   ]
  },
  {
   "cell_type": "code",
   "execution_count": 69,
   "id": "58ee628a",
   "metadata": {},
   "outputs": [
    {
     "data": {
      "text/plain": [
       "<AxesSubplot:xlabel='charges', ylabel='Count'>"
      ]
     },
     "execution_count": 69,
     "metadata": {},
     "output_type": "execute_result"
    },
    {
     "data": {
      "image/png": "[encoded data removed]",
      "text/plain": [
       "<Figure size 432x288 with 1 Axes>"
      ]
     },
     "metadata": {
      "needs_background": "light"
     },
     "output_type": "display_data"
    }
   ],
   "source": [
    "sns.histplot(data=df,x='charges')"
   ]
  },
  {
   "cell_type": "markdown",
   "id": "fb84c874",
   "metadata": {},
   "source": [
    "### 9. Create a radar chart to showcase the median hospitalization cost for each tier of hospitals"
   ]
  },
  {
   "cell_type": "code",
   "execution_count": 70,
   "id": "a91e33e9",
   "metadata": {},
   "outputs": [],
   "source": [
    "median_costs = df.groupby('Hospital tier')['charges'].median()"
   ]
  },
  {
   "cell_type": "code",
   "execution_count": 71,
   "id": "e46681a5",
   "metadata": {},
   "outputs": [
    {
     "data": {
      "text/plain": [
       "Hospital tier\n",
       "tier - 1    19518.755\n",
       "tier - 2     6653.790\n",
       "tier - 3    10676.830\n",
       "Name: charges, dtype: float64"
      ]
     },
     "execution_count": 71,
     "metadata": {},
     "output_type": "execute_result"
    }
   ],
   "source": [
    "median_costs"
   ]
  },
  {
   "cell_type": "code",
   "execution_count": 72,
   "id": "e2a18be1",
   "metadata": {},
   "outputs": [],
   "source": [
    "categories = median_costs.index\n",
    "values = median_costs.values"
   ]
  },
  {
   "cell_type": "code",
   "execution_count": 73,
   "id": "72f2d03d",
   "metadata": {},
   "outputs": [
    {
     "data": {
      "text/plain": [
       "Text(0.5, 1.0, 'Median Hospitalization Cost by Hospital Tier')"
      ]
     },
     "execution_count": 73,
     "metadata": {},
     "output_type": "execute_result"
    },
    {
     "data": {
      "image/png": "[encoded data removed]",
      "text/plain": [
       "<Figure size 864x864 with 1 Axes>"
      ]
     },
     "metadata": {
      "needs_background": "light"
     },
     "output_type": "display_data"
    }
   ],
   "source": [
    "fig, ax = plt.subplots(figsize=(12, 12), subplot_kw=dict(polar=True))\n",
    "ax.plot(categories, values)\n",
    "ax.fill(categories, values, alpha=0.25)\n",
    "ax.set_xticks(np.linspace(0, 2*np.pi, len(categories), endpoint=False))\n",
    "ax.set_xticklabels(categories)\n",
    "ax.set_title('Median Hospitalization Cost by Hospital Tier')"
   ]
  },
  {
   "cell_type": "markdown",
   "id": "3b41b464",
   "metadata": {},
   "source": [
    "### 10. Create a frequency table and a stacked bar chart to visualize the count of people in the different tiers of cities and hospitals"
   ]
  },
  {
   "cell_type": "code",
   "execution_count": 74,
   "id": "708c5e32",
   "metadata": {},
   "outputs": [],
   "source": [
    "city_counts = df['City tier'].value_counts()\n",
    "hospital_counts = df['Hospital tier'].value_counts()"
   ]
  },
  {
   "cell_type": "code",
   "execution_count": 75,
   "id": "57f6857e",
   "metadata": {},
   "outputs": [
    {
     "data": {
      "text/plain": [
       "tier - 2    719\n",
       "tier - 3    701\n",
       "tier - 1    672\n",
       "Name: City tier, dtype: int64"
      ]
     },
     "execution_count": 75,
     "metadata": {},
     "output_type": "execute_result"
    }
   ],
   "source": [
    "city_counts"
   ]
  },
  {
   "cell_type": "code",
   "execution_count": 76,
   "id": "bae94827",
   "metadata": {},
   "outputs": [
    {
     "data": {
      "text/plain": [
       "tier - 2    1229\n",
       "tier - 3     691\n",
       "tier - 1     172\n",
       "Name: Hospital tier, dtype: int64"
      ]
     },
     "execution_count": 76,
     "metadata": {},
     "output_type": "execute_result"
    }
   ],
   "source": [
    "hospital_counts"
   ]
  },
  {
   "cell_type": "code",
   "execution_count": 77,
   "id": "216cef87",
   "metadata": {},
   "outputs": [],
   "source": [
    "city_counts_df = pd.DataFrame({'City Tier': city_counts})\n",
    "hospital_counts_df = pd.DataFrame({'Hospital Tier': hospital_counts})"
   ]
  },
  {
   "cell_type": "code",
   "execution_count": 78,
   "id": "f2d9e0b0",
   "metadata": {},
   "outputs": [
    {
     "data": {
      "image/png": "[encoded data removed]",
      "text/plain": [
       "<Figure size 432x576 with 2 Axes>"
      ]
     },
     "metadata": {
      "needs_background": "light"
     },
     "output_type": "display_data"
    }
   ],
   "source": [
    "fig, (ax1, ax2) = plt.subplots(nrows=2, ncols=1, figsize=(6, 8))\n",
    "\n",
    "sns.barplot(data=city_counts_df, x=city_counts_df.index, y='City Tier', ax=ax1)\n",
    "ax1.set_xlabel('City Tier')\n",
    "ax1.set_ylabel('Count')\n",
    "ax1.set_title('Count of People in Different City Tiers')\n",
    "\n",
    "\n",
    "sns.barplot(data=hospital_counts_df, x=hospital_counts_df.index, y='Hospital Tier', ax=ax2)\n",
    "ax2.set_xlabel('Hospital Tier')\n",
    "ax2.set_ylabel('Count')\n",
    "ax2.set_title('Count of People in Different Hospital Tiers')\n",
    "\n",
    "plt.tight_layout()\n",
    "\n",
    "plt.show()"
   ]
  },
  {
   "cell_type": "markdown",
   "id": "4daa861b",
   "metadata": {},
   "source": [
    "### 11. Encoding for Hospital and city tiers"
   ]
  },
  {
   "cell_type": "code",
   "execution_count": 79,
   "id": "896a15af",
   "metadata": {},
   "outputs": [],
   "source": [
    "df['Hospital tier'] = df['Hospital tier'].replace({'tier - 3':3, 'tier - 1':1, 'tier - 2':2})\n",
    "df['City tier'] = df['City tier'].replace({'tier - 3':3, 'tier - 1':1, 'tier - 2':2})"
   ]
  },
  {
   "cell_type": "code",
   "execution_count": 80,
   "id": "adb14900",
   "metadata": {},
   "outputs": [
    {
     "data": {
      "text/plain": [
       "Customer ID                       object\n",
       "year                              object\n",
       "month                              int64\n",
       "date                               int64\n",
       "children                           int64\n",
       "charges                          float64\n",
       "Hospital tier                      int64\n",
       "City tier                          int64\n",
       "State ID                          object\n",
       "BMI                              float64\n",
       "HBA1C                            float64\n",
       "Heart Issues                      object\n",
       "Any Transplants                   object\n",
       "Cancer history                    object\n",
       "NumberOfMajorSurgeries            object\n",
       "smoker                            object\n",
       "name                              object\n",
       "gender                            object\n",
       "day                                int64\n",
       "dob                       datetime64[ns]\n",
       "age                              float64\n",
       "dtype: object"
      ]
     },
     "execution_count": 80,
     "metadata": {},
     "output_type": "execute_result"
    }
   ],
   "source": [
    "df.dtypes"
   ]
  },
  {
   "cell_type": "markdown",
   "id": "76529521",
   "metadata": {},
   "source": [
    "### 12. Hypothesis Testing"
   ]
  },
  {
   "cell_type": "markdown",
   "id": "0e576085",
   "metadata": {},
   "source": [
    "#### a.)The average hospitalization costs for the three types of hospitals are not significantly different"
   ]
  },
  {
   "cell_type": "code",
   "execution_count": 81,
   "id": "c7e397d3",
   "metadata": {},
   "outputs": [
    {
     "name": "stdout",
     "output_type": "stream",
     "text": [
      "Reject the null hypothesis. The average hospitalization costs for the three types of hospitals are significantly different.\n"
     ]
    }
   ],
   "source": [
    "import scipy.stats as stats\n",
    "\n",
    "# Separate the hospitalization costs by hospital tier\n",
    "hospital_tier_1 = df.loc[df['Hospital tier'] == 1, 'charges']\n",
    "hospital_tier_2 = df.loc[df['Hospital tier'] == 2, 'charges']\n",
    "hospital_tier_3 = df.loc[df['Hospital tier'] == 3, 'charges']\n",
    "\n",
    "# Perform one-way ANOVA\n",
    "fvalue, pvalue = stats.f_oneway(hospital_tier_1, hospital_tier_2, hospital_tier_3)\n",
    "\n",
    "# Set significance level (alpha)\n",
    "alpha = 0.05\n",
    "\n",
    "# Print the results\n",
    "if pvalue < alpha:\n",
    "    print(\"Reject the null hypothesis. The average hospitalization costs for the three types of hospitals are significantly different.\")\n",
    "else:\n",
    "    print(\"Fail to reject the null hypothesis. The average hospitalization costs for the three types of hospitals are not significantly different.\")"
   ]
  },
  {
   "cell_type": "markdown",
   "id": "9847fb3f",
   "metadata": {},
   "source": [
    "#### b. The average hospitalization costs for the three types of cities are not significantly different"
   ]
  },
  {
   "cell_type": "code",
   "execution_count": 82,
   "id": "899645c3",
   "metadata": {},
   "outputs": [
    {
     "name": "stdout",
     "output_type": "stream",
     "text": [
      "Fail to reject the null hypothesis. The average hospitalization costs for the three types of cities are not significantly different.\n"
     ]
    }
   ],
   "source": [
    "# Separate the hospitalization costs by city tier\n",
    "city_tier_1 = df.loc[df['City tier'] == 1, 'charges']\n",
    "city_tier_2 = df.loc[df['City tier'] == 2, 'charges']\n",
    "city_tier_3 = df.loc[df['City tier'] == 3, 'charges']\n",
    "\n",
    "# Perform one-way ANOVA\n",
    "fvalue, pvalue = stats.f_oneway(city_tier_1, city_tier_2, city_tier_3)\n",
    "\n",
    "# Set significance level (alpha)\n",
    "alpha = 0.05\n",
    "\n",
    "# Print the results\n",
    "if pvalue < alpha:\n",
    "    print(\"Reject the null hypothesis. The average hospitalization costs for the three types of cities are significantly different.\")\n",
    "else:\n",
    "    print(\"Fail to reject the null hypothesis. The average hospitalization costs for the three types of cities are not significantly different.\")\n",
    "    \n",
    "    "
   ]
  },
  {
   "cell_type": "markdown",
   "id": "f3cd13f9",
   "metadata": {},
   "source": [
    "#### c. The average hospitalization cost for smokers is not significantly different from the average cost for nonsmokers"
   ]
  },
  {
   "cell_type": "code",
   "execution_count": 83,
   "id": "ca9859f9",
   "metadata": {},
   "outputs": [
    {
     "name": "stdout",
     "output_type": "stream",
     "text": [
      "Fail to reject the null hypothesis. The average hospitalization cost for smokers is not significantly different from the average cost for nonsmokers.\n"
     ]
    }
   ],
   "source": [
    "# Separate the hospitalization costs for smokers and nonsmokers\n",
    "smokers = df.loc[df['smoker'] == 'Yes', 'charges']\n",
    "nonsmokers = df.loc[df['smoker'] == 'No', 'charges']\n",
    "\n",
    "# Perform independent t-test\n",
    "t_statistic, p_value = stats.ttest_ind(smokers, nonsmokers)\n",
    "\n",
    "# Set significance level (alpha)\n",
    "alpha = 0.05\n",
    "\n",
    "# Print the results\n",
    "if p_value < alpha:\n",
    "    print(\"Reject the null hypothesis. The average hospitalization cost for smokers is significantly different from the average cost for nonsmokers.\")\n",
    "else:\n",
    "    print(\"Fail to reject the null hypothesis. The average hospitalization cost for smokers is not significantly different from the average cost for nonsmokers.\")"
   ]
  },
  {
   "cell_type": "markdown",
   "id": "fefadea8",
   "metadata": {},
   "source": [
    "#### d. Smoking and heart issues are independent"
   ]
  },
  {
   "cell_type": "code",
   "execution_count": 84,
   "id": "4e83cbd9",
   "metadata": {},
   "outputs": [
    {
     "name": "stdout",
     "output_type": "stream",
     "text": [
      "Fail to reject the null hypothesis. Smoking and heart issues are independent.\n"
     ]
    }
   ],
   "source": [
    "# Create a contingency table of smoking and heart issues\n",
    "contingency_table = pd.crosstab(df['smoker'], df['Heart Issues'])\n",
    "\n",
    "# Perform chi-square test of independence\n",
    "chi2_statistic, p_value, _, _ = stats.chi2_contingency(contingency_table)\n",
    "\n",
    "# Set significance level (alpha)\n",
    "alpha = 0.05\n",
    "\n",
    "# Print the results\n",
    "if p_value < alpha:\n",
    "    print(\"Reject the null hypothesis. Smoking and heart issues are dependent.\")\n",
    "else:\n",
    "    print(\"Fail to reject the null hypothesis. Smoking and heart issues are independent.\")"
   ]
  },
  {
   "cell_type": "markdown",
   "id": "74aa8184",
   "metadata": {},
   "source": [
    "### 13. Encoding for remaining variables"
   ]
  },
  {
   "cell_type": "code",
   "execution_count": 85,
   "id": "574d0dc1",
   "metadata": {},
   "outputs": [
    {
     "data": {
      "text/plain": [
       "Customer ID                       object\n",
       "year                              object\n",
       "month                              int64\n",
       "date                               int64\n",
       "children                           int64\n",
       "charges                          float64\n",
       "Hospital tier                      int64\n",
       "City tier                          int64\n",
       "State ID                          object\n",
       "BMI                              float64\n",
       "HBA1C                            float64\n",
       "Heart Issues                      object\n",
       "Any Transplants                   object\n",
       "Cancer history                    object\n",
       "NumberOfMajorSurgeries            object\n",
       "smoker                            object\n",
       "name                              object\n",
       "gender                            object\n",
       "day                                int64\n",
       "dob                       datetime64[ns]\n",
       "age                              float64\n",
       "dtype: object"
      ]
     },
     "execution_count": 85,
     "metadata": {},
     "output_type": "execute_result"
    }
   ],
   "source": [
    "df.dtypes"
   ]
  },
  {
   "cell_type": "code",
   "execution_count": 86,
   "id": "4e9c6434",
   "metadata": {},
   "outputs": [],
   "source": [
    "df['Heart Issues'] = df['Heart Issues'].replace({'No': 0, 'yes': 1})\n",
    "df['Any Transplants'] = df['Any Transplants'].replace({'No': 0, 'yes': 1})\n",
    "df['Cancer history'] = df['Cancer history'].replace({'No': 0, 'Yes': 1})\n",
    "df['smoker'] = df['smoker'].replace({'No': 0, 'yes': 1})"
   ]
  },
  {
   "cell_type": "code",
   "execution_count": 87,
   "id": "26cab35e",
   "metadata": {},
   "outputs": [
    {
     "data": {
      "text/plain": [
       "array(['1', 0, '2', '3'], dtype=object)"
      ]
     },
     "execution_count": 87,
     "metadata": {},
     "output_type": "execute_result"
    }
   ],
   "source": [
    "df['NumberOfMajorSurgeries'].unique()"
   ]
  },
  {
   "cell_type": "code",
   "execution_count": 88,
   "id": "de04551a",
   "metadata": {},
   "outputs": [],
   "source": [
    "df['NumberOfMajorSurgeries'] = pd.to_numeric(df['NumberOfMajorSurgeries'], errors='coerce')"
   ]
  },
  {
   "cell_type": "code",
   "execution_count": 89,
   "id": "cdad55b5",
   "metadata": {},
   "outputs": [
    {
     "data": {
      "text/plain": [
       "array(['Male', 'Female'], dtype=object)"
      ]
     },
     "execution_count": 89,
     "metadata": {},
     "output_type": "execute_result"
    }
   ],
   "source": [
    "df.gender.unique()"
   ]
  },
  {
   "cell_type": "code",
   "execution_count": 90,
   "id": "16209fbb",
   "metadata": {},
   "outputs": [],
   "source": [
    "gender_mapping = {'Male': 0, 'Female': 1}\n",
    "df['gender'] = df['gender'].map(gender_mapping)"
   ]
  },
  {
   "cell_type": "code",
   "execution_count": 91,
   "id": "825875d3",
   "metadata": {},
   "outputs": [
    {
     "data": {
      "text/plain": [
       "Customer ID                       object\n",
       "year                              object\n",
       "month                              int64\n",
       "date                               int64\n",
       "children                           int64\n",
       "charges                          float64\n",
       "Hospital tier                      int64\n",
       "City tier                          int64\n",
       "State ID                          object\n",
       "BMI                              float64\n",
       "HBA1C                            float64\n",
       "Heart Issues                       int64\n",
       "Any Transplants                    int64\n",
       "Cancer history                     int64\n",
       "NumberOfMajorSurgeries             int64\n",
       "smoker                             int64\n",
       "name                              object\n",
       "gender                             int64\n",
       "day                                int64\n",
       "dob                       datetime64[ns]\n",
       "age                              float64\n",
       "dtype: object"
      ]
     },
     "execution_count": 91,
     "metadata": {},
     "output_type": "execute_result"
    }
   ],
   "source": [
    "df.dtypes"
   ]
  },
  {
   "cell_type": "code",
   "execution_count": 92,
   "id": "a24b9535",
   "metadata": {},
   "outputs": [],
   "source": [
    "df=df.drop(columns=['year','month','date','day','dob'])"
   ]
  },
  {
   "cell_type": "code",
   "execution_count": 93,
   "id": "9426e865",
   "metadata": {},
   "outputs": [],
   "source": [
    "df = df.drop(['Customer ID', 'name'], axis=1)"
   ]
  },
  {
   "cell_type": "code",
   "execution_count": 94,
   "id": "dc75b780",
   "metadata": {},
   "outputs": [
    {
     "data": {
      "text/plain": [
       "children                    int64\n",
       "charges                   float64\n",
       "Hospital tier               int64\n",
       "City tier                   int64\n",
       "State ID                   object\n",
       "BMI                       float64\n",
       "HBA1C                     float64\n",
       "Heart Issues                int64\n",
       "Any Transplants             int64\n",
       "Cancer history              int64\n",
       "NumberOfMajorSurgeries      int64\n",
       "smoker                      int64\n",
       "gender                      int64\n",
       "age                       float64\n",
       "dtype: object"
      ]
     },
     "execution_count": 94,
     "metadata": {},
     "output_type": "execute_result"
    }
   ],
   "source": [
    "df.dtypes"
   ]
  },
  {
   "cell_type": "markdown",
   "id": "eda14254",
   "metadata": {},
   "source": [
    "##### The dataset has State ID, which has around 16 states. All states are not represented in equal proportions in the data. Creating dummy variables for all regions may also result in too many insignificant predictors. Nevertheless, only R1011, R1012, and R1013 are worth investigating further. Create a suitable strategy to create dummy variables with these restraints."
   ]
  },
  {
   "cell_type": "code",
   "execution_count": 95,
   "id": "6d90c19e",
   "metadata": {},
   "outputs": [
    {
     "data": {
      "text/html": [
       "<div>\n",
       "<style scoped>\n",
       "    .dataframe tbody tr th:only-of-type {\n",
       "        vertical-align: middle;\n",
       "    }\n",
       "\n",
       "    .dataframe tbody tr th {\n",
       "        vertical-align: top;\n",
       "    }\n",
       "\n",
       "    .dataframe thead th {\n",
       "        text-align: right;\n",
       "    }\n",
       "</style>\n",
       "<table border=\"1\" class=\"dataframe\">\n",
       "  <thead>\n",
       "    <tr style=\"text-align: right;\">\n",
       "      <th></th>\n",
       "      <th>children</th>\n",
       "      <th>charges</th>\n",
       "      <th>Hospital tier</th>\n",
       "      <th>City tier</th>\n",
       "      <th>BMI</th>\n",
       "      <th>HBA1C</th>\n",
       "      <th>Heart Issues</th>\n",
       "      <th>Any Transplants</th>\n",
       "      <th>Cancer history</th>\n",
       "      <th>NumberOfMajorSurgeries</th>\n",
       "      <th>smoker</th>\n",
       "      <th>gender</th>\n",
       "      <th>age</th>\n",
       "      <th>State_Other</th>\n",
       "      <th>State_R1011</th>\n",
       "      <th>State_R1012</th>\n",
       "      <th>State_R1013</th>\n",
       "    </tr>\n",
       "  </thead>\n",
       "  <tbody>\n",
       "    <tr>\n",
       "      <th>0</th>\n",
       "      <td>0</td>\n",
       "      <td>563.84</td>\n",
       "      <td>2</td>\n",
       "      <td>3</td>\n",
       "      <td>17.58</td>\n",
       "      <td>4.51</td>\n",
       "      <td>0</td>\n",
       "      <td>0</td>\n",
       "      <td>0</td>\n",
       "      <td>1</td>\n",
       "      <td>0</td>\n",
       "      <td>0</td>\n",
       "      <td>30.885695</td>\n",
       "      <td>0</td>\n",
       "      <td>0</td>\n",
       "      <td>0</td>\n",
       "      <td>1</td>\n",
       "    </tr>\n",
       "    <tr>\n",
       "      <th>1</th>\n",
       "      <td>0</td>\n",
       "      <td>570.62</td>\n",
       "      <td>2</td>\n",
       "      <td>1</td>\n",
       "      <td>17.60</td>\n",
       "      <td>4.39</td>\n",
       "      <td>0</td>\n",
       "      <td>0</td>\n",
       "      <td>0</td>\n",
       "      <td>1</td>\n",
       "      <td>0</td>\n",
       "      <td>0</td>\n",
       "      <td>30.491444</td>\n",
       "      <td>0</td>\n",
       "      <td>0</td>\n",
       "      <td>0</td>\n",
       "      <td>1</td>\n",
       "    </tr>\n",
       "    <tr>\n",
       "      <th>2</th>\n",
       "      <td>0</td>\n",
       "      <td>600.00</td>\n",
       "      <td>2</td>\n",
       "      <td>1</td>\n",
       "      <td>16.47</td>\n",
       "      <td>6.35</td>\n",
       "      <td>0</td>\n",
       "      <td>0</td>\n",
       "      <td>1</td>\n",
       "      <td>1</td>\n",
       "      <td>0</td>\n",
       "      <td>1</td>\n",
       "      <td>29.911020</td>\n",
       "      <td>0</td>\n",
       "      <td>0</td>\n",
       "      <td>0</td>\n",
       "      <td>1</td>\n",
       "    </tr>\n",
       "    <tr>\n",
       "      <th>3</th>\n",
       "      <td>0</td>\n",
       "      <td>604.54</td>\n",
       "      <td>3</td>\n",
       "      <td>3</td>\n",
       "      <td>17.70</td>\n",
       "      <td>6.28</td>\n",
       "      <td>0</td>\n",
       "      <td>0</td>\n",
       "      <td>0</td>\n",
       "      <td>1</td>\n",
       "      <td>0</td>\n",
       "      <td>0</td>\n",
       "      <td>30.704997</td>\n",
       "      <td>0</td>\n",
       "      <td>0</td>\n",
       "      <td>0</td>\n",
       "      <td>1</td>\n",
       "    </tr>\n",
       "    <tr>\n",
       "      <th>4</th>\n",
       "      <td>0</td>\n",
       "      <td>637.26</td>\n",
       "      <td>3</td>\n",
       "      <td>3</td>\n",
       "      <td>22.34</td>\n",
       "      <td>5.57</td>\n",
       "      <td>0</td>\n",
       "      <td>0</td>\n",
       "      <td>0</td>\n",
       "      <td>1</td>\n",
       "      <td>0</td>\n",
       "      <td>0</td>\n",
       "      <td>24.837782</td>\n",
       "      <td>0</td>\n",
       "      <td>0</td>\n",
       "      <td>0</td>\n",
       "      <td>1</td>\n",
       "    </tr>\n",
       "  </tbody>\n",
       "</table>\n",
       "</div>"
      ],
      "text/plain": [
       "   children  charges  Hospital tier  City tier    BMI  HBA1C  Heart Issues  \\\n",
       "0         0   563.84              2          3  17.58   4.51             0   \n",
       "1         0   570.62              2          1  17.60   4.39             0   \n",
       "2         0   600.00              2          1  16.47   6.35             0   \n",
       "3         0   604.54              3          3  17.70   6.28             0   \n",
       "4         0   637.26              3          3  22.34   5.57             0   \n",
       "\n",
       "   Any Transplants  Cancer history  NumberOfMajorSurgeries  smoker  gender  \\\n",
       "0                0               0                       1       0       0   \n",
       "1                0               0                       1       0       0   \n",
       "2                0               1                       1       0       1   \n",
       "3                0               0                       1       0       0   \n",
       "4                0               0                       1       0       0   \n",
       "\n",
       "         age  State_Other  State_R1011  State_R1012  State_R1013  \n",
       "0  30.885695            0            0            0            1  \n",
       "1  30.491444            0            0            0            1  \n",
       "2  29.911020            0            0            0            1  \n",
       "3  30.704997            0            0            0            1  \n",
       "4  24.837782            0            0            0            1  "
      ]
     },
     "execution_count": 95,
     "metadata": {},
     "output_type": "execute_result"
    }
   ],
   "source": [
    "df_dummy = df.copy()\n",
    "\n",
    "# Create a list of states of interest\n",
    "states_of_interest = ['R1011', 'R1012', 'R1013']\n",
    "\n",
    "# Replace states not in the list of interest with 'Other'\n",
    "df_dummy['State ID'] = df_dummy['State ID'].where(df_dummy['State ID'].isin(states_of_interest), 'Other')\n",
    "\n",
    "# Create dummy variables for the states column\n",
    "dummy_variables = pd.get_dummies(df_dummy['State ID'], prefix='State')\n",
    "\n",
    "# Concatenate the dummy variables with the original dataset\n",
    "df_dummy = pd.concat([df_dummy, dummy_variables], axis=1)\n",
    "\n",
    "# Drop the original 'State ID' column\n",
    "df_dummy.drop('State ID', axis=1, inplace=True)\n",
    "\n",
    "# Display the modified dataset with dummy variables\n",
    "df_dummy.head()"
   ]
  },
  {
   "cell_type": "code",
   "execution_count": 96,
   "id": "59dd4d0b",
   "metadata": {},
   "outputs": [
    {
     "data": {
      "text/plain": [
       "children                    int64\n",
       "charges                   float64\n",
       "Hospital tier               int64\n",
       "City tier                   int64\n",
       "BMI                       float64\n",
       "HBA1C                     float64\n",
       "Heart Issues                int64\n",
       "Any Transplants             int64\n",
       "Cancer history              int64\n",
       "NumberOfMajorSurgeries      int64\n",
       "smoker                      int64\n",
       "gender                      int64\n",
       "age                       float64\n",
       "State_Other                 uint8\n",
       "State_R1011                 uint8\n",
       "State_R1012                 uint8\n",
       "State_R1013                 uint8\n",
       "dtype: object"
      ]
     },
     "execution_count": 96,
     "metadata": {},
     "output_type": "execute_result"
    }
   ],
   "source": [
    "df_dummy.dtypes"
   ]
  },
  {
   "cell_type": "markdown",
   "id": "30e21b7b",
   "metadata": {},
   "source": [
    "### 14. Examine the correlation between predictors to identify highly correlated predictors. Use a heatmap to visualize this."
   ]
  },
  {
   "cell_type": "code",
   "execution_count": 97,
   "id": "6a9930f7",
   "metadata": {},
   "outputs": [
    {
     "data": {
      "image/png": "[encoded data removed]",
      "text/plain": [
       "<Figure size 720x576 with 2 Axes>"
      ]
     },
     "metadata": {
      "needs_background": "light"
     },
     "output_type": "display_data"
    }
   ],
   "source": [
    "corr_matrix = df.corr()\n",
    "\n",
    "plt.figure(figsize=(10, 8))\n",
    "sns.heatmap(corr_matrix, annot=True, cmap='coolwarm', linewidths=0.5)\n",
    "plt.title('Correlation Heatmap')\n",
    "plt.show()"
   ]
  },
  {
   "cell_type": "markdown",
   "id": "88c6900e",
   "metadata": {},
   "source": [
    "### 15. Develop and evaluate the final model using regression with a stochastic gradient descent optimizer. "
   ]
  },
  {
   "cell_type": "code",
   "execution_count": 98,
   "id": "6d81732b",
   "metadata": {},
   "outputs": [
    {
     "name": "stdout",
     "output_type": "stream",
     "text": [
      "Fitting 5 folds for each of 27 candidates, totalling 135 fits\n",
      "Fold 1 RMSE: 3566.2097972947477\n",
      "Fold 2 RMSE: 3216.717245753953\n",
      "Fold 3 RMSE: 3737.8509344322897\n",
      "Fold 4 RMSE: 3821.6443567603033\n",
      "Fold 5 RMSE: 4381.584164274798\n"
     ]
    }
   ],
   "source": [
    "from sklearn.linear_model import SGDRegressor\n",
    "from sklearn.model_selection import cross_val_score, KFold\n",
    "from sklearn.model_selection import GridSearchCV\n",
    "from sklearn.preprocessing import StandardScaler\n",
    "from sklearn.pipeline import Pipeline\n",
    "from sklearn.metrics import mean_squared_error\n",
    "\n",
    "# Split the data into features (X) and target variable (y)\n",
    "X = df_dummy.drop('charges', axis=1)\n",
    "y = df_dummy['charges']\n",
    "\n",
    "# Initialize KFold with 5 folds\n",
    "kf = KFold(n_splits=5, shuffle=True, random_state=42)\n",
    "\n",
    "# Define the pipeline\n",
    "pipeline = Pipeline([\n",
    "    ('scaler', StandardScaler()),  # Standardize the features\n",
    "    ('regressor', SGDRegressor())  # Stochastic Gradient Descent Regressor\n",
    "])\n",
    "\n",
    "# Define the hyperparameter grid for tuning\n",
    "param_grid = {\n",
    "    'regressor__alpha': [0.0001, 0.001, 0.01],  # Regularization parameter\n",
    "    'regressor__l1_ratio': [0.25, 0.5, 0.75],  # L1 ratio for Elastic Net regularization\n",
    "    'regressor__max_iter': [1000, 2000, 3000],  # Maximum number of iterations\n",
    "}\n",
    "\n",
    "# Perform hyperparameter tuning using cross-validation\n",
    "grid_search = GridSearchCV(pipeline, param_grid, cv=kf, scoring='neg_mean_squared_error', verbose=1)\n",
    "grid_search.fit(X, y)\n",
    "\n",
    "# Get the best model and best hyperparameters\n",
    "best_model = grid_search.best_estimator_\n",
    "\n",
    "# Perform cross-validation and obtain the RMSE scores\n",
    "cv_scores = np.sqrt(-cross_val_score(best_model, X, y, cv=kf, scoring='neg_mean_squared_error'))\n",
    "\n",
    "# Print the RMSE scores for each fold\n",
    "for i, score in enumerate(cv_scores, 1):\n",
    "    print(f\"Fold {i} RMSE: {score}\")\n",
    "\n",
    "# Fit the best model on the entire dataset\n",
    "best_model.fit(X, y)\n",
    "\n",
    "# Get the feature importances or coefficients\n",
    "feature_importances = best_model.named_steps['regressor'].coef_\n",
    "\n",
    "# Create a DataFrame to display the variable importance scores\n",
    "importance_df = pd.DataFrame({'Variable': X.columns, 'Importance': feature_importances})\n",
    "importance_df = importance_df.sort_values(by='Importance', ascending=False)"
   ]
  },
  {
   "cell_type": "code",
   "execution_count": 99,
   "id": "426efb61",
   "metadata": {},
   "outputs": [
    {
     "data": {
      "text/plain": [
       "0         563.84\n",
       "1         570.62\n",
       "2         600.00\n",
       "3         604.54\n",
       "4         637.26\n",
       "          ...   \n",
       "2095    34402.22\n",
       "2096    34439.86\n",
       "2097    34456.27\n",
       "2098    34472.84\n",
       "2099    34543.39\n",
       "Name: charges, Length: 2092, dtype: float64"
      ]
     },
     "execution_count": 99,
     "metadata": {},
     "output_type": "execute_result"
    }
   ],
   "source": [
    "df_dummy.charges"
   ]
  },
  {
   "cell_type": "markdown",
   "id": "37af6a4c",
   "metadata": {},
   "source": [
    "### 16. Use random forest and extreme gradient boosting for cost prediction, share your crossvalidation results, and calculate the variable importance scores"
   ]
  },
  {
   "cell_type": "code",
   "execution_count": 100,
   "id": "b143b0ed",
   "metadata": {},
   "outputs": [
    {
     "name": "stdout",
     "output_type": "stream",
     "text": [
      "Fitting 5 folds for each of 9 candidates, totalling 45 fits\n",
      "Fitting 5 folds for each of 27 candidates, totalling 135 fits\n",
      "Random Forest Cross-Validation RMSE Scores:\n",
      "Fold 1 RMSE: 3123.099202840917\n",
      "Fold 2 RMSE: 2864.1541245232106\n",
      "Fold 3 RMSE: 3378.9131383672266\n",
      "Fold 4 RMSE: 3641.2207053512643\n",
      "Fold 5 RMSE: 4242.990206563739\n",
      "Best Random Forest Hyperparameters:\n",
      "{'regressor__max_depth': 5, 'regressor__n_estimators': 200}\n"
     ]
    }
   ],
   "source": [
    "from sklearn.ensemble import RandomForestRegressor\n",
    "from xgboost import XGBRegressor\n",
    "\n",
    "n_folds = 5\n",
    "\n",
    "rf_regressor = RandomForestRegressor(random_state=42)\n",
    "xgb_regressor = XGBRegressor(random_state=42)\n",
    "\n",
    "rf_pipeline = Pipeline([\n",
    "    ('scaler', StandardScaler()),  \n",
    "    ('regressor', rf_regressor)  \n",
    "])\n",
    "\n",
    "xgb_pipeline = Pipeline([\n",
    "    ('scaler', StandardScaler()),\n",
    "    ('regressor', xgb_regressor) \n",
    "])\n",
    "\n",
    "# Define the hyperparameter grids for tuning\n",
    "rf_param_grid = {\n",
    "    'regressor__n_estimators': [100, 200, 300],  \n",
    "    'regressor__max_depth': [None, 5, 10],  \n",
    "}\n",
    "\n",
    "xgb_param_grid = {\n",
    "    'regressor__n_estimators': [100, 200, 300],  \n",
    "    'regressor__max_depth': [3, 5, 7], \n",
    "    'regressor__learning_rate': [0.1, 0.01, 0.001],  \n",
    "}\n",
    "\n",
    "# Perform hyperparameter tuning using cross-validation for Random Forest\n",
    "rf_grid_search = GridSearchCV(rf_pipeline, rf_param_grid, cv=n_folds, scoring='neg_mean_squared_error', verbose=1)\n",
    "rf_grid_search.fit(X, y)\n",
    "\n",
    "# Perform hyperparameter tuning using cross-validation for XGBoost\n",
    "xgb_grid_search = GridSearchCV(xgb_pipeline, xgb_param_grid, cv=n_folds, scoring='neg_mean_squared_error', verbose=1)\n",
    "xgb_grid_search.fit(X, y)\n",
    "\n",
    "best_rf_model = rf_grid_search.best_estimator_\n",
    "best_rf_params = rf_grid_search.best_params_\n",
    "\n",
    "best_xgb_model = xgb_grid_search.best_estimator_\n",
    "best_xgb_params = xgb_grid_search.best_params_\n",
    "\n",
    "kf = KFold(n_splits=n_folds, random_state=42, shuffle=True)\n",
    "rf_cv_scores = np.sqrt(-cross_val_score(best_rf_model, X, y, cv=kf, scoring='neg_mean_squared_error'))\n",
    "\n",
    "xgb_cv_scores = np.sqrt(-cross_val_score(best_xgb_model, X, y, cv=kf, scoring='neg_mean_squared_error'))\n",
    "\n",
    "\n",
    "print(\"Random Forest Cross-Validation RMSE Scores:\")\n",
    "for i, score in enumerate(rf_cv_scores, 1):\n",
    "    print(f\"Fold {i} RMSE: {score}\")\n",
    "print(\"Best Random Forest Hyperparameters:\")\n",
    "print(best_rf_params)\n"
   ]
  },
  {
   "cell_type": "markdown",
   "id": "478edf0f",
   "metadata": {},
   "source": [
    "### 17. Case scenario:\n"
   ]
  },
  {
   "cell_type": "markdown",
   "id": "6e316375",
   "metadata": {},
   "source": [
    "##### Estimate the cost of hospitalization for Christopher, Ms. Jayna (her date of birth is 12/28/1988, height is 170 cm, and weight is 85 kgs). She lives in a tier-1 city and her state’s State ID is R1011. She lives with her partner and two children. She was found to be nondiabetic (HbA1c = 5.8). She smokes but is otherwise healthy. She has had no transplants or major surgeries. Her father died of lung cancer. Hospitalization costs will be estimated using tier-1 hospitals."
   ]
  },
  {
   "cell_type": "code",
   "execution_count": 101,
   "id": "245f9aa1",
   "metadata": {},
   "outputs": [],
   "source": [
    "import datetime\n",
    "input_data = pd.DataFrame({\n",
    "    'children': [0],\n",
    "    'Hospital tier': [2],\n",
    "    'City tier': [3],\n",
    "    'BMI': [17.58],\n",
    "    'HBA1C': [5.8],\n",
    "    'Heart Issues': [0],\n",
    "    'Any Transplants': [0],\n",
    "    'Cancer history': [0],\n",
    "    'NumberOfMajorSurgeries': [1],\n",
    "    'smoker': [1],\n",
    "    'age': [34.5],\n",
    "    'gender': [0],\n",
    "    'State_Other': [0],\n",
    "    'State_R1011': [1],\n",
    "    'State_R1012': [0],\n",
    "    'State_R1013': [0]\n",
    "})\n",
    "input_df = pd.DataFrame(input_data)"
   ]
  },
  {
   "cell_type": "code",
   "execution_count": 102,
   "id": "423b0780",
   "metadata": {},
   "outputs": [
    {
     "name": "stdout",
     "output_type": "stream",
     "text": [
      "Estimated cost of hospitalization for Ms. Jayna: 19344.191567117494\n"
     ]
    }
   ],
   "source": [
    "estimated_cost = best_model.predict(input_df)[0]\n",
    "print(f\"Estimated cost of hospitalization for Ms. Jayna: {estimated_cost}\")"
   ]
  },
  {
   "cell_type": "code",
   "execution_count": null,
   "id": "0bcedff9",
   "metadata": {},
   "outputs": [],
   "source": []
  }
 ],
 "metadata": {
  "kernelspec": {
   "display_name": "Python 3 (ipykernel)",
   "language": "python",
   "name": "python3"
  },
  "language_info": {
   "codemirror_mode": {
    "name": "ipython",
    "version": 3
   },
   "file_extension": ".py",
   "mimetype": "text/x-python",
   "name": "python",
   "nbconvert_exporter": "python",
   "pygments_lexer": "ipython3",
   "version": "3.9.12"
  }
 },
 "nbformat": 4,
 "nbformat_minor": 5
}
